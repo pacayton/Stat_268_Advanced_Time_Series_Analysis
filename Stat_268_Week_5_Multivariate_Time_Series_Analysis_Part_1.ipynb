{
  "nbformat": 4,
  "nbformat_minor": 0,
  "metadata": {
    "colab": {
      "provenance": [],
      "toc_visible": true,
      "authorship_tag": "ABX9TyP+2BwEe8QboyAuN6khukPV",
      "include_colab_link": true
    },
    "kernelspec": {
      "name": "ir",
      "display_name": "R"
    },
    "language_info": {
      "name": "R"
    }
  },
  "cells": [
    {
      "cell_type": "markdown",
      "metadata": {
        "id": "view-in-github",
        "colab_type": "text"
      },
      "source": [
        "<a href=\"https://colab.research.google.com/github/pacayton/Stat_268_Advanced_Time_Series_Analysis/blob/main/Stat_268_Week_5_Multivariate_Time_Series_Analysis_Part_1.ipynb\" target=\"_parent\"><img src=\"https://colab.research.google.com/assets/colab-badge.svg\" alt=\"Open In Colab\"/></a>"
      ]
    },
    {
      "cell_type": "markdown",
      "source": [
        "# Stat 268: Advanced Time Series Analysis\n",
        "$$\\quad$$\n",
        "#### Assoc Prof Peter Julian Cayton, PhD\n",
        "#### School of Statistics\n",
        "#### University of the Philippines Diliman\n",
        "#### [Google Scholar](https://scholar.google.com/citations?user=KtH_mGEAAAAJ)"
      ],
      "metadata": {
        "id": "WpR4xd1vCqJG"
      }
    },
    {
      "cell_type": "code",
      "execution_count": null,
      "metadata": {
        "id": "KMyf7erACnUE"
      },
      "outputs": [],
      "source": [
        "## Preamble: Please install the following packages before running the codes\n",
        "\n",
        "install.packages(\"TSA\") ## TSAAR's package for data and functions\n",
        "install.packages(\"MTS\") ## MTS package for data and functions\n",
        "install.packages('SimDesign') ## Necessary for Multivariate Simulation\n",
        "install.packages(\"dse\", repos=\"http://R-Forge.R-project.org\") ## Old dse1 package used in AICTSR\n",
        "install.packages(\"EvalEst\", repos=\"http://R-Forge.R-project.org\") ## Additional Support package for dse\n",
        "install.packages(\"vars\") ## Vector Autogression Package used in AICTSR\n",
        "install.packages(\"fpp2\") ## FPP2's package for data and functions\n",
        "install.packages(\"tidyverse\") ## for better data management\n",
        "install.packages(\"matrixcalc\") ## For matrix operations\n",
        "\n",
        "library(TSA)\n",
        "library(MTS)\n",
        "library(SimDesign)\n",
        "library(dse)\n",
        "library(EvalEst)\n",
        "library(vars)\n",
        "library(fpp2)\n",
        "library(tidyverse)\n",
        "library(matrixcalc)"
      ]
    },
    {
      "cell_type": "markdown",
      "source": [
        "# Multivariate Time Series Analysis\n",
        "* A branch of multivariate statistical analysis that deals with time series data. (MTSA)\n",
        "* The objectives of multivariate time series analysis includes (MTSA):\n",
        "\n",
        "> 1. to study the dynamic relationships between variables\n",
        "> 2. to improve accuracy of forecasting or prediction\n",
        "\n",
        "\n",
        "\n"
      ],
      "metadata": {
        "id": "_frsatJBMFQV"
      }
    },
    {
      "cell_type": "markdown",
      "source": [
        "## Some Basic Concepts in Multivariate Time Series\n",
        "\n",
        "#### Random Vector\n",
        "\n",
        "for time $t=1,2,...,T$,\n",
        "\n",
        "$$\n",
        "\\mathbf{z}_t =\n",
        "  \\begin{bmatrix}\n",
        "  z_{1t} \\\\\n",
        "  z_{2t} \\\\\n",
        "  \\vdots \\\\\n",
        "  z_{kt}\n",
        "  \\end{bmatrix}\n",
        "$$\n",
        "\n",
        "where $k$ is the number of random variables in the vector. We will also use this when referring to a vector of variables to analyze in the data.\n",
        "\n",
        "#### Expected Value\n",
        "\n",
        "The expected value, or *mean vector*, of a random vector $\\mathbf{z}_t$ is denoted by:\n",
        "\n",
        "$$\\mathbf{\\mu}_t = E[\\mathbf{z}_t] =    \n",
        "\\begin{bmatrix}\n",
        "  E(z_{1t}) \\\\\n",
        "  E(z_{2t}) \\\\\n",
        "  \\vdots \\\\\n",
        "  E(z_{kt})\n",
        "  \\end{bmatrix}\n",
        "$$\n",
        "\n",
        "If all variables are weakly-stationary, which is equivalent to saying the vector is weakly-stationary, then the individual means are constant, then we write $\\mathbf{\\mu}_t = \\mathbf{\\mu}$.\n",
        "\n",
        "A property of the expected value: for $\\mathbf{z}_t$ as a random vector with mean $\\mathbf{\\mu}_t$ with constant matrix $\\mathbf{A}$ and constant vector $\\mathbf{b}$,\n",
        "\n",
        "$$ E[\\mathbf{A}\\mathbf{z}_t + \\mathbf{b}] = \\mathbf{A}\\mathbf{\\mu}_t + \\mathbf{b} $$\n",
        "\n",
        "#### Variance-Covariance & Correlation Matrices\n",
        "\n",
        "The variance-covariance matrix, or *covariance matrix* for short, of a random vector $\\mathbf{z}_t$ is\n",
        "\n",
        "\\begin{align*}\n",
        "\\mathbf{\\Sigma}_t & = Cov[\\mathbf{z}_t] = E [(\\mathbf{z}_{t} - \\mathbf{\\mu}_{t})(\\mathbf{z}_{t} - \\mathbf{\\mu}_{t})'] \\\\\n",
        "& =    \n",
        "\\begin{bmatrix}\n",
        "  E[(z_{1t} - \\mu_{1t})^2] & E[(z_{1t} - \\mu_{1t})(z_{2t} - \\mu_{2t})] & \\cdots & E[(z_{1t} - \\mu_{1t})(z_{kt} - \\mu_{kt})]  \\\\\n",
        "  E[(z_{2t} - \\mu_{2t})(z_{1t} - \\mu_{1t})] & E[(z_{2t} - \\mu_{2t})^2] & \\cdots & E[(z_{2t} - \\mu_{2t})(z_{kt} - \\mu_{kt})]  \\\\\n",
        "  \\vdots & \\vdots & \\ddots & \\vdots \\\\\n",
        "  E[(z_{kt} - \\mu_{kt})(z_{1t} - \\mu_{1t})] & E[(z_{kt} - \\mu_{kt})(z_{2t} - \\mu_{2t})] & \\cdots & E[(z_{kt} - \\mu_{kt})^2]\n",
        "  \\end{bmatrix} \\\\\n",
        "& = \\begin{bmatrix}\n",
        "  \\sigma^2_{1,t} & \\sigma_{12,t} & \\cdots & \\sigma_{1k,t}  \\\\\n",
        "  \\sigma_{21,t} &  \\sigma^2_{2,t} & \\cdots & \\sigma_{2k,t}  \\\\\n",
        "  \\vdots & \\vdots & \\ddots & \\vdots \\\\\n",
        "  \\sigma_{k1,t} & \\sigma_{k2,t} & \\cdots & \\sigma^2_{k,t}\n",
        "  \\end{bmatrix}\n",
        "\\end{align*}\n",
        "\n",
        "Comments:\n",
        "\n",
        "* For stationary vectors, it is also assumed that the covariance matrix is constant: $\\mathbf{\\Sigma}_t = \\mathbf{\\Sigma} $.\n",
        "\n",
        "* A property of the covariance matrix: for $\\mathbf{z}_t$ as a random vector with a covariance matrix $\\mathbf{\\Sigma}_t$ with constant matrix $\\mathbf{A}$ and constant vector $\\mathbf{b}$,\n",
        "\n",
        "$$ Cov[\\mathbf{A}\\mathbf{z}_t + \\mathbf{b}] = \\mathbf{A}\\mathbf{\\Sigma}_t \\mathbf{A}' $$\n",
        "\n",
        "* Also, the covariance matrix is symmetric: $\\mathbf{\\Sigma}_t = \\mathbf{\\Sigma}'_t$\n",
        "\n",
        "* Covariance matrices should be positive-definite.\n",
        "\n",
        "For a random vector $\\mathbf{z}_t$, let the $\\mathbf{V}_t$ be a diagonal matrix with the diagonal elements of $\\mathbf{\\Sigma}_t$ which contains the variance of the individual variables of the vector. Then, the *correlation matrix* is defined as:\n",
        "\n",
        "$$\\mathbf{R}_t = Cov[\\mathbf{V}_t^{-1/2}\\mathbf{z}_t] = \\mathbf{V}_t^{-1/2} \\mathbf{\\Sigma}_t \\mathbf{V}_t^{-1/2}\n",
        "= \\begin{bmatrix}\n",
        "  1 & \\rho_{12,t} & \\cdots & \\rho_{1k,t}  \\\\\n",
        "  \\rho_{21,t} &  1 & \\cdots & \\rho_{2k,t}  \\\\\n",
        "  \\vdots & \\vdots & \\ddots & \\vdots \\\\\n",
        "  \\rho_{k1,t} & \\rho_{k2,t} & \\cdots & 1\n",
        "  \\end{bmatrix}\n",
        "$$\n",
        "\n",
        "Comments:\n",
        "\n",
        "* The correlation matrix is also symmetric: $\\mathbf{R}_t = \\mathbf{R}'_t$\n",
        "\n",
        "* Correlations are also positive-definite.\n",
        "\n",
        "#### Cross-Covariance and Cross-Correlation Matrices\n",
        "\n",
        "For a random vector $\\mathbf{z}_t$, the cross covariance matrix is defined as:\n",
        "\n",
        "\\begin{align*}\n",
        "\\mathbf{\\Gamma}_{t, l} & = Cov[\\mathbf{z}_t, \\mathbf{z}_{t-l}] = E [(\\mathbf{z}_{t} - \\mathbf{\\mu}_{t})(\\mathbf{z}_{t-l} - \\mathbf{\\mu}_{t-1})'] \\\\\n",
        "& =    \n",
        "\\begin{bmatrix}\n",
        "  E[(z_{1t} - \\mu_{1t})(z_{1,t-l} - \\mu_{1,t-1})] & E[(z_{1t} - \\mu_{1t})(z_{2,t-l} - \\mu_{2,t-1})] & \\cdots & E[(z_{1t} - \\mu_{1t})(z_{k,t-1} - \\mu_{k,t-1})]  \\\\\n",
        "  E[(z_{2t} - \\mu_{2t})(z_{1,t-1} - \\mu_{1,t-1})] & E[(z_{2t} - \\mu_{2t})(z_{2,t-1} - \\mu_{2,t-1})] & \\cdots & E[(z_{2t} - \\mu_{2t})(z_{k,t-1} - \\mu_{k,t-1})]  \\\\\n",
        "  \\vdots & \\vdots & \\ddots & \\vdots \\\\\n",
        "  E[(z_{kt} - \\mu_{kt})(z_{1,t-1} - \\mu_{1,t-1})] & E[(z_{kt} - \\mu_{kt})(z_{2,t-1} - \\mu_{2,t-1})] & \\cdots &  E[(z_{kt} - \\mu_{kt})(z_{k,t-1} - \\mu_{k,t-1})]\n",
        "  \\end{bmatrix} \\\\\n",
        "& = \\begin{bmatrix}\n",
        "  \\gamma_{1,t,l} & \\gamma_{12,t,l} & \\cdots & \\gamma_{1k,t,l}  \\\\\n",
        "  \\gamma_{21,t,l} &  \\gamma_{2,t,l} & \\cdots & \\gamma_{2k,t,l}  \\\\\n",
        "  \\vdots & \\vdots & \\ddots & \\vdots \\\\\n",
        "  \\gamma_{k1,t,l} &  \\gamma_{k2,t,l} & \\cdots & \\gamma_{k,t,l}  \\\\\n",
        "  \\end{bmatrix}\n",
        "\\end{align*}\n",
        "\n",
        "and the cross correlation matrix $\\mathbf{\\rho}_{t,l}$ is defined as\n",
        "\n",
        "$$\\mathbf{\\rho}_{t,l} = \\mathbf{V}_t^{-1/2} \\mathbf{\\Gamma}_{t,l} \\mathbf{V}_t^{-1/2}\n",
        "= \\begin{bmatrix}\n",
        "  \\rho_{1,t,l} & \\rho_{12,t,l} & \\cdots & \\rho_{1k,t,l}  \\\\\n",
        "  \\rho_{21,t, l} &  \\rho_{2,t,l} & \\cdots & \\rho_{2k,t,l}  \\\\\n",
        "  \\vdots & \\vdots & \\ddots & \\vdots \\\\\n",
        "  \\rho_{k1,t,l} & \\rho_{k2,t,l} & \\cdots & \\rho_{k,t,l}\n",
        "  \\end{bmatrix}\n",
        "$$\n",
        "\n",
        "Comments:\n",
        "\n",
        "* For stationary vector time series, the cross-covariance and cross-correlation matrices only depend on the lag $l$:\n",
        "\n",
        "$$\\mathbf{\\Gamma}_{t,l} = \\mathbf{\\Gamma}_{l}$$\n",
        "$$\\mathbf{\\rho}_{t,l} = \\mathbf{\\rho}_{l}$$\n",
        "\n",
        "* A property of cross-covariance and cross-correlation matrix in stationary vectors:\n",
        "\n",
        "$$\\mathbf{\\Gamma}_{l} = \\mathbf{\\Gamma}'_{-l}$$\n",
        "$$\\mathbf{\\rho}_{l} = \\mathbf{\\rho}'_{-l}$$"
      ],
      "metadata": {
        "id": "hF8kdub15-fg"
      }
    },
    {
      "cell_type": "markdown",
      "source": [
        "### A Stationary Linear Time Series Model\n",
        "\n",
        "#### Weakly Stationary Time Series\n",
        "\n",
        "As we have described earlier, a weakly stationary has the following properties:\n",
        "\n",
        "1.  a constant mean vector through time: $\\mathbf{\\mu}_t = \\mathbf{\\mu}$,\n",
        "\n",
        "2. a constant covariance matrix: $\\mathbf{\\Sigma}_t = \\mathbf{\\Sigma} $, and\n",
        "\n",
        "3. a cross-covariance matrix that only depends on the lag or time difference $l$: $\\mathbf{\\Gamma}_{t,l} = \\mathbf{\\Gamma}_{l}$\n",
        "\n",
        "#### A White Noise Analogue in Vector Time Series\n",
        "\n",
        "For our purposes, we define\n",
        "\n",
        "$$\\mathbf{a}_t = [\\mathbf{a}_{1t}, ..., \\mathbf{a}_{kt}]' \\sim iid (\\mathbf{\\mu} = \\mathbf{0}, \\mathbf{\\Sigma}_a)$$\n",
        "\n",
        "with $\\mathbf{\\Sigma}_a$ as positive-definite. This specification may act as our vector process similar to the white noise in univariate time series.\n",
        "\n",
        "There are also other specifications where would use a process with zero mean vector and diagonal covariance matrix. This is done by Cholesky decomposition of $\\mathbf{\\Sigma}_a$ with the following form:\n",
        "\n",
        "$$\\mathbf{\\Sigma}_a = \\mathbf{L}  \\mathbf{G}_a \\mathbf{L}' $$\n",
        "\n",
        "where $\\mathbf{G}_a$ is diagonal matrix and $\\mathbf{L}$ is a lower triangular matrix with diagonal elements being $1$. what happens is that\n",
        "\n",
        "$$\\mathbf{b}_t = [\\mathbf{b}_{1t}, ..., \\mathbf{b}_{kt}]' \\sim iid (\\mathbf{\\mu} = \\mathbf{0}, \\mathbf{G}_a)$$\n",
        "$$ \\mathbf{a}_t =  \\mathbf{L} \\mathbf{b}_t \\sim iid (\\mathbf{\\mu} = \\mathbf{0},  \\mathbf{L}  \\mathbf{G}_a \\mathbf{L}' = \\mathbf{\\Sigma}_a)$$\n",
        "\n",
        "The feature of $\\mathbf{b}_t $ is that its elements are all uncorrelated among each other which may be easier to generate as compared to using a fully defined covariance matrix as $\\mathbf{a}_t$ would require.\n",
        "\n",
        "#### The Stationary Linear Model\n",
        "\n",
        "A manner to generate a stationary vector time series $\\mathbf{z}_t $ from $\\mathbf{a}_t \\sim iid (\\mathbf{0}, \\mathbf{\\Sigma}_a)$ is using the model\n",
        "\n",
        "$$\\mathbf{z}_t = \\mathbf{\\mu} + \\sum_{i =0}^{\\infty} \\mathbf{\\psi}_i \\mathbf{a}_{t-i}$$\n",
        "\n",
        "where $ \\mathbf{\\mu} $ is a constant vector, $\\mathbf{\\psi}_0 = \\mathbf{I}_k$, and $\\mathbf{\\psi}_i, i> 0$ are constant matrices that follow the stationarity condition that\n",
        "\n",
        "$$\\sum_{i =0}^{\\infty} \\|\\mathbf{\\psi}_i \\| < \\infty $$\n",
        "\n",
        "where $\\| ∘ \\|$ is a norm of the matrix, e.g., the Frobenius norm  $\\| \\mathbf{A} \\| = \\sqrt{tr(\\mathbf{A}\\mathbf{A}')}$.\n",
        "\n",
        "Comments:\n",
        "\n",
        "* In simple terms, this is the vector equivalent of a restricted infinite MA model known in univariate time series analysis, which is also called the *Wold moving average representation*.\n",
        "\n",
        "* Vector Moving Average (VMA) models are not frequently used in time series applications but do exist and are discussed extensively in MTSA. We will not be covering these models in the course.\n",
        "\n",
        "* the vector $\\mathbf{a}_t$ is called the *innovation* series of $\\mathbf{z}_t$ as it presents unique information only available at time $t$.\n",
        "\n",
        "* The mean vector and covariance matrix of $\\mathbf{z}_t$ is:\n",
        "\n",
        "$$E[\\mathbf{z}_t] = \\mathbf{\\mu} \\quad , \\quad Cov[\\mathbf{z}_t]  = \\sum_{i =0}^{\\infty} \\mathbf{\\psi}_i \\mathbf{\\Sigma}_a \\mathbf{\\psi}'_i$$\n",
        "\n",
        "* Alternatively, the model can be respecified with $\\mathbf{b}_t $ that uses the Cholesky decomposition of $\\mathbf{\\Sigma}_a = \\mathbf{L}  \\mathbf{G}_a \\mathbf{L}' $ via $\\mathbf{a}_t =  \\mathbf{L} \\mathbf{b}_t$:\n",
        "\n",
        "$$\\mathbf{z}_t = \\mathbf{\\mu} + \\sum_{i =0}^{\\infty} \\mathbf{\\psi}_i \\mathbf{a}_{t-i} = \\mathbf{\\mu} + \\sum_{i =0}^{\\infty} [ \\mathbf{\\psi}_i \\mathbf{L} ] \\mathbf{b}_t = \\mathbf{\\mu} + \\sum_{i =0}^{\\infty}  \\mathbf{\\psi}^*_i  \\mathbf{b}_t$$\n",
        "$$\\mathbf{\\psi}^*_0 = \\mathbf{L} \\quad , \\quad \\mathbf{\\psi}^*_i = \\mathbf{\\psi}_i \\mathbf{L}  \\quad \\mathbb{ for } \\quad i >0$$\n",
        "\n",
        "* $ \\mathbf{\\psi}_i = \\{\\psi_{i,r,c}\\}$ is known as the *impulse response function* at lag $i$. Its elements $\\psi_{i,r,c}$ describe that if there is a impulse or sudden rise by $+1$ unit from the innovation related to the $c^{th}$ variable in the vector time series, the $r^{th}$ variable responds with a change $\\psi_{i,r,c}$ delayed by lag $i$. The function is an important inference tool in understanding multivariate time series.\n",
        "\n",
        "* $ \\mathbf{\\psi}^*_i = \\{\\psi^*_{i,r,c}\\}$ is also an impulse response function, but its structure is influenced by the Cholesky decomposition. The ordering of the variables in terms of decomposition is very important in using it in inference. Often, the impulse is assumed to be of size $+1$ s.d. adjusted by Cholesky decomposition.\n",
        "\n",
        "* The cross covariance and cross correlation matrices of the stationary linear model is as follows, where ${diag}^*\\{ \\mathbf{A} \\}$ is a function that creates a diagonal matrix from the diagonal elements of $\\mathbf{A} $:\n",
        "\n",
        "$$\\mathbf{\\Gamma}_l =  \\sum_{i =l}^{\\infty} \\mathbf{\\psi}_i \\mathbf{\\Sigma}_a \\mathbf{\\psi}'_{i-l}$$\n",
        "\n",
        "$$\\mathbf{V}_z = {diag}^*\\{Cov[ \\mathbf{z}_t ] \\} $$\n",
        "$$\\mathbf{\\rho}_l = \\mathbf{V}^{-1/2}_z \\mathbf{\\Gamma}_l \\mathbf{V}^{-1/2}_z $$\n",
        "\n",
        "* We often make plots of the values of $\\mathbf{\\rho}_l$ with a range of lags to infer on the structure of the multivariate time series to be created, similar to how we use ACFs in unvariate time series analysis."
      ],
      "metadata": {
        "id": "0oCvZJLWE1uc"
      }
    },
    {
      "cell_type": "markdown",
      "source": [
        "### Estimators for Parameter Quantities\n",
        "\n",
        "Given the sample data $\\{\\mathbf{z}_t = [z_{1t}, ...,z_{kt} ] ' \\}^T_{t=1}$,\n",
        "\n",
        "$$\\hat{\\mathbf{\\mu}} = \\bar{\\mathbf{z}}_t = \\frac{1}{T} \\sum_{t=1}^T \\mathbf{z}_t $$\n",
        "\n",
        "$$\\hat{\\mathbf{\\Gamma}}_0 = \\hat{\\mathbf{\\Sigma}}_z = \\frac{1}{T-1} \\sum_{t=1}^T (\\mathbf{z}_t - \\hat{\\mathbf{\\mu}}) (\\mathbf{z}_t - \\hat{\\mathbf{\\mu}})'  $$\n",
        "\n",
        "$$\\hat{\\mathbf{\\Gamma}}_l  = \\frac{1}{T-1} \\sum_{t=l+1}^T (\\mathbf{z}_t - \\hat{\\mathbf{\\mu}}) (\\mathbf{z}_{t-l} - \\hat{\\mathbf{\\mu}})'  $$\n",
        "\n",
        "$$ \\hat{\\mathbf{\\rho}}_l = [{diag}^* \\{ \\hat{\\mathbf{\\Gamma}}_0 \\}]^{-1/2} \\hat{\\mathbf{\\Gamma}}_l [{diag}^* \\{ \\hat{\\mathbf{\\Gamma}}_0 \\}]^{-1/2}$$\n",
        "\n",
        "Comments:\n",
        "\n",
        "* If $\\mathbf{z}_t $ is a random sample from the multivariate normal distribution, then all the estimators above are consistent estimators of their respective parameter counterparts.\n",
        "\n",
        "* They may still be consistent if the fourth-order cumulants are zero, i.e., if the excess kurtosis measures of the sample data is zero, similar to the multivariate normal distribution.\n",
        "\n",
        "Let's show a demonstration of the sample cross-correlation matrix (CCM) in the MTS package for a white noise process, i.e., $\\mathbf{\\mu} = \\mathbf{0}$, $\\mathbf{\\Sigma}_z = \\mathbf{I}_2 $ and $\\mathbf{\\rho}_l = 0$ for $l>0$"
      ],
      "metadata": {
        "id": "BftdIVgFkp_M"
      }
    },
    {
      "cell_type": "code",
      "source": [
        "##  Simulating a White Noise Process\n",
        "set.seed(268280)\n",
        "sig=diag(2) # create the 2-by-2 identity matrix\n",
        "x <- rmvnorm(300,rep(0,2),sig) # generate random draws\n",
        "\n",
        "# Data Visualization\n",
        "MTSplot(x) # Obtain time series plots\n",
        "\n",
        "# CCM Estimation Outputs\n",
        "ccm(x)\n",
        "\n",
        "## Note: pres Enter key to generate the other outputs"
      ],
      "metadata": {
        "colab": {
          "base_uri": "https://localhost:8080/",
          "height": 1000
        },
        "id": "PCPrRXPqODkF",
        "outputId": "c608beb4-3df7-417e-8788-c31376dcc419"
      },
      "execution_count": null,
      "outputs": [
        {
          "name": "stdout",
          "output_type": "stream",
          "text": [
            "[1] \"Covariance matrix:\"\n",
            "      [,1]  [,2]\n",
            "[1,]  1.05 -0.09\n",
            "[2,] -0.09  1.06\n",
            "CCM at lag:  0 \n",
            "       [,1]   [,2]\n",
            "[1,]  1.000 -0.085\n",
            "[2,] -0.085  1.000\n",
            "Simplified matrix: \n",
            "CCM at lag:  1 \n",
            "+ . \n",
            ". . \n",
            "CCM at lag:  2 \n",
            ". . \n",
            ". . \n",
            "CCM at lag:  3 \n",
            ". . \n",
            ". . \n",
            "CCM at lag:  4 \n",
            ". . \n",
            ". . \n",
            "CCM at lag:  5 \n",
            ". . \n",
            ". . \n",
            "CCM at lag:  6 \n",
            ". . \n",
            ". . \n",
            "CCM at lag:  7 \n",
            ". . \n",
            ". . \n",
            "CCM at lag:  8 \n",
            ". . \n",
            ". . \n",
            "CCM at lag:  9 \n",
            ". . \n",
            ". . \n",
            "CCM at lag:  10 \n",
            ". . \n",
            "+ . \n",
            "CCM at lag:  11 \n",
            ". . \n",
            ". . \n",
            "CCM at lag:  12 \n",
            ". . \n",
            ". . \n",
            "\n"
          ]
        },
        {
          "output_type": "display_data",
          "data": {
            "text/plain": [
              "plot without title"
            ],
            "image/png": "[encoded data removed]"
          },
          "metadata": {
            "image/png": {
              "width": 420,
              "height": 420
            }
          }
        },
        {
          "output_type": "stream",
          "name": "stdout",
          "text": [
            "Hit Enter for p-value plot of individual ccm:  \n"
          ]
        },
        {
          "output_type": "display_data",
          "data": {
            "text/plain": [
              "plot without title"
            ],
            "image/png": "[encoded data removed]"
          },
          "metadata": {
            "image/png": {
              "width": 420,
              "height": 420
            }
          }
        },
        {
          "output_type": "display_data",
          "data": {
            "text/plain": [
              "Plot with title “Significance plot of CCM”"
            ],
            "image/png": "[encoded data removed]"
          },
          "metadata": {
            "image/png": {
              "width": 420,
              "height": 420
            }
          }
        }
      ]
    },
    {
      "cell_type": "markdown",
      "source": [
        "### Testing For Zero Cross Correlations\n",
        "\n",
        "To test $H_0: \\mathbf{\\rho}_i = \\mathbf{0}_{k \\times k}, i =1,2,..., m$, i.e., zero cross correlations from lags $1$ to $m$, versus the alternative  $H_1: ∃i, \\mathbf{\\rho}_i \\ne \\mathbf{0}_{k \\times k}, i =1,2,..., m$ is the multivariate Ljung-Box test statistics:\n",
        "\n",
        "$$Q_k (m) = T^2 \\sum_{l=1}^m \\frac{1}{T-l} tr \\left( \\hat{\\mathbf{\\Gamma}}'_l \\hat{\\mathbf{\\Gamma}}_0^{-1} \\hat{\\mathbf{\\Gamma}}_l \\hat{\\mathbf{\\Gamma}}_0^{-1} \\right)$$\n",
        "\n",
        "Under the null hypothesis, $Q_k (m) \\sim \\chi^2_{(df = mk^2)}$\n",
        "\n",
        "One can use the p-value\n",
        "\n",
        "$$pval[Q_k (m)] = P \\left[ X > Q_k (m) | X \\sim \\chi^2_{(df = mk^2)} \\right] $$\n",
        "\n",
        "to make a decision for each lag span $m$ an in the MTS package, a significance plot with horizontal reference line at $0.05$ is used for the multivariate Ljung-Box test.\n",
        "\n",
        "Let's try an R demonstration using data from MTSA, available for students in UVLe, and a simulation.\n"
      ],
      "metadata": {
        "id": "lceO1BlEQfsu"
      }
    },
    {
      "cell_type": "code",
      "source": [
        "### Demonstration for Multivariate Ljung-Box test using Real Data\n",
        "\n",
        "da <- read.table(\"/content/q-gdpunemp.txt\",header=T) ## Note: data available in UVLe\n",
        "\n",
        "head(da) ## peak on the first few lines of data\n",
        "\n",
        "x <- cbind(diff(da$gdp),diff(da$rate)) ## compute for the differenced series\n",
        "\n",
        "head(x)\n",
        "\n",
        "mq(x, lag = 10) ## Compute for the multivariate Ljung-Box test from lags 1 to 10"
      ],
      "metadata": {
        "colab": {
          "base_uri": "https://localhost:8080/",
          "height": 1000
        },
        "id": "MdFwtwHsnaTT",
        "outputId": "0ad6aa2f-3c6a-468d-a394-05b7f94df6c6"
      },
      "execution_count": null,
      "outputs": [
        {
          "output_type": "display_data",
          "data": {
            "text/html": [
              "<table class=\"dataframe\">\n",
              "<caption>A data.frame: 6 × 4</caption>\n",
              "<thead>\n",
              "\t<tr><th></th><th scope=col>year</th><th scope=col>mon</th><th scope=col>gdp</th><th scope=col>rate</th></tr>\n",
              "\t<tr><th></th><th scope=col>&lt;int&gt;</th><th scope=col>&lt;int&gt;</th><th scope=col>&lt;dbl&gt;</th><th scope=col>&lt;dbl&gt;</th></tr>\n",
              "</thead>\n",
              "<tbody>\n",
              "\t<tr><th scope=row>1</th><td>1948</td><td> 1</td><td>1821.809</td><td>3.733333</td></tr>\n",
              "\t<tr><th scope=row>2</th><td>1948</td><td> 4</td><td>1855.345</td><td>3.666667</td></tr>\n",
              "\t<tr><th scope=row>3</th><td>1948</td><td> 7</td><td>1865.320</td><td>3.766667</td></tr>\n",
              "\t<tr><th scope=row>4</th><td>1948</td><td>10</td><td>1868.184</td><td>3.833333</td></tr>\n",
              "\t<tr><th scope=row>5</th><td>1949</td><td> 1</td><td>1842.240</td><td>4.666667</td></tr>\n",
              "\t<tr><th scope=row>6</th><td>1949</td><td> 4</td><td>1835.512</td><td>5.866667</td></tr>\n",
              "</tbody>\n",
              "</table>\n"
            ],
            "text/markdown": "\nA data.frame: 6 × 4\n\n| <!--/--> | year &lt;int&gt; | mon &lt;int&gt; | gdp &lt;dbl&gt; | rate &lt;dbl&gt; |\n|---|---|---|---|---|\n| 1 | 1948 |  1 | 1821.809 | 3.733333 |\n| 2 | 1948 |  4 | 1855.345 | 3.666667 |\n| 3 | 1948 |  7 | 1865.320 | 3.766667 |\n| 4 | 1948 | 10 | 1868.184 | 3.833333 |\n| 5 | 1949 |  1 | 1842.240 | 4.666667 |\n| 6 | 1949 |  4 | 1835.512 | 5.866667 |\n\n",
            "text/latex": "A data.frame: 6 × 4\n\\begin{tabular}{r|llll}\n  & year & mon & gdp & rate\\\\\n  & <int> & <int> & <dbl> & <dbl>\\\\\n\\hline\n\t1 & 1948 &  1 & 1821.809 & 3.733333\\\\\n\t2 & 1948 &  4 & 1855.345 & 3.666667\\\\\n\t3 & 1948 &  7 & 1865.320 & 3.766667\\\\\n\t4 & 1948 & 10 & 1868.184 & 3.833333\\\\\n\t5 & 1949 &  1 & 1842.240 & 4.666667\\\\\n\t6 & 1949 &  4 & 1835.512 & 5.866667\\\\\n\\end{tabular}\n",
            "text/plain": [
              "  year mon gdp      rate    \n",
              "1 1948  1  1821.809 3.733333\n",
              "2 1948  4  1855.345 3.666667\n",
              "3 1948  7  1865.320 3.766667\n",
              "4 1948 10  1868.184 3.833333\n",
              "5 1949  1  1842.240 4.666667\n",
              "6 1949  4  1835.512 5.866667"
            ]
          },
          "metadata": {}
        },
        {
          "output_type": "display_data",
          "data": {
            "text/html": [
              "<table class=\"dataframe\">\n",
              "<caption>A matrix: 6 × 2 of type dbl</caption>\n",
              "<tbody>\n",
              "\t<tr><td> 33.536</td><td>-0.066666</td></tr>\n",
              "\t<tr><td>  9.975</td><td> 0.100000</td></tr>\n",
              "\t<tr><td>  2.864</td><td> 0.066666</td></tr>\n",
              "\t<tr><td>-25.944</td><td> 0.833334</td></tr>\n",
              "\t<tr><td> -6.728</td><td> 1.200000</td></tr>\n",
              "\t<tr><td> 20.591</td><td> 0.833333</td></tr>\n",
              "</tbody>\n",
              "</table>\n"
            ],
            "text/markdown": "\nA matrix: 6 × 2 of type dbl\n\n|  33.536 | -0.066666 |\n|   9.975 |  0.100000 |\n|   2.864 |  0.066666 |\n| -25.944 |  0.833334 |\n|  -6.728 |  1.200000 |\n|  20.591 |  0.833333 |\n\n",
            "text/latex": "A matrix: 6 × 2 of type dbl\n\\begin{tabular}{ll}\n\t  33.536 & -0.066666\\\\\n\t   9.975 &  0.100000\\\\\n\t   2.864 &  0.066666\\\\\n\t -25.944 &  0.833334\\\\\n\t  -6.728 &  1.200000\\\\\n\t  20.591 &  0.833333\\\\\n\\end{tabular}\n",
            "text/plain": [
              "     [,1]    [,2]     \n",
              "[1,]  33.536 -0.066666\n",
              "[2,]   9.975  0.100000\n",
              "[3,]   2.864  0.066666\n",
              "[4,] -25.944  0.833334\n",
              "[5,]  -6.728  1.200000\n",
              "[6,]  20.591  0.833333"
            ]
          },
          "metadata": {}
        },
        {
          "output_type": "stream",
          "name": "stdout",
          "text": [
            "Ljung-Box Statistics:  \n",
            "        m       Q(m)     df    p-value\n",
            " [1,]     1       140       4        0\n",
            " [2,]     2       196       8        0\n",
            " [3,]     3       213      12        0\n",
            " [4,]     4       232      16        0\n",
            " [5,]     5       241      20        0\n",
            " [6,]     6       246      24        0\n",
            " [7,]     7       250      28        0\n",
            " [8,]     8       261      32        0\n",
            " [9,]     9       281      36        0\n",
            "[10,]    10       290      40        0\n"
          ]
        },
        {
          "output_type": "display_data",
          "data": {
            "text/plain": [
              "Plot with title “p-values of Ljung-Box statistics”"
            ],
            "image/png": "[encoded data removed]"
          },
          "metadata": {
            "image/png": {
              "width": 420,
              "height": 420
            }
          }
        }
      ]
    },
    {
      "cell_type": "code",
      "source": [
        "### Demonstration for Multivariate Ljung-Box test using Simulated Data.\n",
        "set.seed(268280)\n",
        "sig <- diag(3) ## Cov matrix = I_3x3\n",
        "z=rmvnorm(200,rep(0,3),sig)\n",
        "mq(z,10)"
      ],
      "metadata": {
        "colab": {
          "base_uri": "https://localhost:8080/",
          "height": 645
        },
        "id": "ecbjbVBjK8O_",
        "outputId": "e91d5961-90f1-4115-b2ff-b3b6fc63f279"
      },
      "execution_count": null,
      "outputs": [
        {
          "output_type": "stream",
          "name": "stdout",
          "text": [
            "Ljung-Box Statistics:  \n",
            "        m       Q(m)     df    p-value\n",
            " [1,]  1.00      9.26    9.00     0.41\n",
            " [2,]  2.00     18.26   18.00     0.44\n",
            " [3,]  3.00     24.64   27.00     0.59\n",
            " [4,]  4.00     37.95   36.00     0.38\n",
            " [5,]  5.00     54.96   45.00     0.15\n",
            " [6,]  6.00     59.82   54.00     0.27\n",
            " [7,]  7.00     65.79   63.00     0.38\n",
            " [8,]  8.00     70.27   72.00     0.54\n",
            " [9,]  9.00     78.59   81.00     0.56\n",
            "[10,] 10.00     83.95   90.00     0.66\n"
          ]
        },
        {
          "output_type": "display_data",
          "data": {
            "text/plain": [
              "Plot with title “p-values of Ljung-Box statistics”"
            ],
            "image/png": "[encoded data removed]"
          },
          "metadata": {
            "image/png": {
              "width": 420,
              "height": 420
            }
          }
        }
      ]
    },
    {
      "cell_type": "markdown",
      "source": [
        "## Vector Autoregression Model\n",
        "\n",
        "A multivariate time series $\\mathbf{z}_t = [{z}_{1t},..., {z}_{kt}]'$ follows a vector autogression model of order $p$, denoted as $VAR(p)$, if (MTSA)\n",
        "\n",
        "$$\\mathbf{z}_t = \\mathbf{c} + \\sum_{i=1}^p \\mathbf{\\phi}_i \\mathbf{z}_{t-i} + \\mathbf{a}_t $$\n",
        "\n",
        "where $\\mathbf{c}$ is a constant vector, $\\mathbf{\\phi}_i \\ne \\mathbf{0}_{k \\times k}$, and $\\mathbf{a}_t \\sim iid (\\mathbf{0}_k, \\mathbf{\\Sigma}_a)$, with $\\mathbf{\\Sigma}_a$ being positive definite.\n",
        "\n"
      ],
      "metadata": {
        "id": "leolTGjLLph8"
      }
    },
    {
      "cell_type": "markdown",
      "source": [
        "Comments:\n",
        "\n",
        "* Alternatively, one can restate the model in terms of lag matrix polynomials, where $\\mathbf{\\phi}_p (B) = \\mathbf{I}_k - \\sum_{i=1}^p \\mathbf{\\phi}_i B^{i} $ and $\\mathbf{\\mu}_z = [\\mathbf{I}_k - \\sum_{i=1}^p \\mathbf{\\phi}_i]^{-1}\\mathbf{c}  $:\n",
        "\n",
        "$$\\mathbf{\\phi}_p (B) [\\mathbf{z}_t - \\mathbf{\\mu}_z] = \\mathbf{a}_t  $$\n",
        "\n",
        "* For a $VAR(p)$ process to be stationary, the following condition for the matrix polynomial should be met, with $b$ being a scalar variable:\n",
        "\n",
        "$$det \\left[ \\mathbf{I}_k - \\sum_{i=1}^p \\mathbf{\\phi}_i b^{i} \\right] \\ne 0 \\quad , \\quad |b| \\le 1 $$\n",
        "\n",
        "* If the determinant polynomial above has a root at $b=1$, it means that at least one of the components of the vector $\\mathbf{z}_t$ may have an integration order of 1, $I(1)$, which may imply a requirement for differencing or alternative models.\n",
        "\n",
        "* In AICTSR, the specification used includes a provision for exogenous variables:\n",
        "\n",
        "$$\\mathbf{z}_t = \\mathbf{BX}_t  + \\sum_{i=1}^p \\mathbf{\\phi}_i \\mathbf{z}_{t-i} + \\mathbf{a}_t $$\n",
        "\n",
        "* In the specification above, $\\mathbf{B}$ is a $k \\times r$ matrix of coefficients and $\\mathbf{X}_t$ is an $r \\times 1$ vector of exogenous variables for each time point $t$. A special case is $\\mathbf{X}_t = 1$ which is a scalar and thus $\\mathbf{B} = \\mathbf{c}$.\n",
        "\n",
        "* When we mean \"exogenous variable\", it means the variable affects some or all the variables in the vector but the vector variables do not affect the exogenous variable. It is \"outside the system\", thus, exogenous.\n",
        "\n",
        "* Examples of exogenous variables are trend indices and seasonal indicators but some fields have other contexts on how exogeneity is determined.\n",
        "\n",
        "* \"Endogenous\" means \"within the system\" in lay terms, so all the variables in the vector of interest are endogenous variables.\n",
        "\n"
      ],
      "metadata": {
        "id": "55APLC81yHpO"
      }
    },
    {
      "cell_type": "markdown",
      "source": [
        "* One can extract the Wold moving average representation of a $VAR(p)$ process to extract the impulse response function $\\mathbf{\\psi}_i$, assuming $\\mathbf{z}_t$ has zero mean vector:\n",
        "\n",
        "$$\\mathbf{\\phi}_p (B) \\mathbf{z}_t  = \\mathbf{a}_t \\Rightarrow  \\mathbf{z}_t  = \\mathbf{\\phi}_p (B)^{-1} \\mathbf{a}_t = \\mathbf{\\psi} (B) \\mathbf{a}_t = \\sum_{i =0}^{\\infty} \\mathbf{\\psi}_i \\mathbf{a}_{t-i} $$\n",
        "\n",
        "* The algorithm for the solution to turn the $VAR(p)$ to a restricted $VMA(\\infty)$ is:\n",
        "\n",
        "$$ \\mathbf{\\psi}_0 = \\mathbf{I}_k \\quad , \\quad \\mathbf{\\psi}_i =   \\sum_{j =1}^{i} \\mathbf{\\psi}_{i-j} \\mathbf{\\phi}_j \\quad , \\quad i > 0 \\quad ; \\quad {\\phi}_j = \\mathbf{0}_{k \\times k} \\quad , \\quad j > p $$"
      ],
      "metadata": {
        "id": "E-wYtBT5yW9P"
      }
    },
    {
      "cell_type": "markdown",
      "source": [
        "### Estimation of the VAR(p) Model\n",
        "\n",
        "In the estimation of the $VAR(p)$ model, the following approaches are typically used:\n",
        "\n",
        "1. Least Squares (LS) approach, of which the Ordinary Least Squares is used\n",
        "2. Maximum Likelihood Estimation (MLE), which assumes the innovation series $\\mathbf{a}_t \\sim iid \\: N_p (\\mathbf{0}_k, \\mathbf{\\Sigma}_a)$\n",
        "3. Bayesian approach (BVAR), which uses conjugate priors for the multivariate normal distribution.\n",
        "\n",
        "To use these methods, one would transform the $VAR(p)$ model into a multivariate regression model:\n",
        "\n",
        "$$\\mathbf{Z} = \\mathbf{X \\beta} + \\mathbf{A} $$\n",
        "\n",
        "where:\n",
        "\n",
        "$$\n",
        "\\mathbf{Z} =\n",
        "\\begin{bmatrix}\n",
        "\\mathbf{z}'_{p+1} \\\\\n",
        "\\mathbf{z}'_{p+2} \\\\\n",
        "\\vdots \\\\\n",
        "\\mathbf{z}'_{T}\n",
        "\\end{bmatrix} ,  \\;(T-p)\\times k \\; matrix ;\n",
        "$$\n",
        "\n",
        "$$\n",
        "\\mathbf{X} =\n",
        "\\begin{bmatrix}\n",
        "1 & \\mathbf{z}'_{p} & \\mathbf{z}'_{p-1} & ... & \\mathbf{z}'_{1} \\\\\n",
        "1 & \\mathbf{z}'_{p+1} & \\mathbf{z}'_{p} & ... & \\mathbf{z}'_{2} \\\\\n",
        "\\vdots & \\vdots & \\vdots & \\ddots & \\vdots \\\\\n",
        "1 & \\mathbf{z}'_{T-1} & \\mathbf{z}'_{T-2} & ... & \\mathbf{z}'_{T-p}\n",
        "\\end{bmatrix},   \\;(T-p)\\times (kp + 1) \\; matrix ;\n",
        "$$\n",
        "\n",
        "$$\n",
        "\\mathbf{\\beta} =\n",
        "\\begin{bmatrix}\n",
        "\\mathbf{c}' \\\\\n",
        "\\mathbf{\\phi}'_{1} \\\\\n",
        "\\vdots \\\\\n",
        "\\mathbf{\\phi}'_{p}\n",
        "\\end{bmatrix} , \\; (kp + 1) \\times k  \\; matrix ;\n",
        "$$\n",
        "\n",
        "$$\n",
        "\\mathbf{A} =\n",
        "\\begin{bmatrix}\n",
        "\\mathbf{a}'_{p+1} \\\\\n",
        "\\mathbf{a}'_{p+2} \\\\\n",
        "\\vdots \\\\\n",
        "\\mathbf{a}'_{T}\n",
        "\\end{bmatrix} ,  \\;(T-p)\\times k \\; matrix  \n",
        "$$\n",
        "\n",
        "From the results in MTSA, the estimators based on LS and MLE for $\\mathbf{\\beta}$ are similar, with\n",
        "\n",
        "$$ \\hat{\\mathbf{\\beta}} = (\\mathbf{X}'\\mathbf{X})^{-1} \\mathbf{X}'\\mathbf{Z}$$\n",
        "\n",
        "The estimator for $\\mathbf{\\Sigma}_a$ is slightly different for the two approaches, with $\\hat{\\mathbf{A}} = \\mathbf{Z} - \\mathbf{X \\hat{\\beta}}$ as the residual matrix:\n",
        "\n",
        "$$\\hat{\\mathbf{A}}'\\hat{\\mathbf{A}} = [T - p - (kp + 1)]  \\hat{\\mathbf{\\Sigma}}^{(OLS)}_a = (T-p)  \\hat{\\mathbf{\\Sigma}}^{(MLE)}_a$$\n",
        "\n",
        "**Theorem**: Properties of the LS and ML estimators for stationary $VAR(p)$ models\n",
        "\n",
        "1. $E[\\hat{\\mathbf{\\beta}}] = \\mathbf{\\beta} $\n",
        "\n",
        "2. $E[\\hat{\\mathbf{\\Sigma}}^{(OLS)}_a] = \\mathbf{\\Sigma}_a $\n",
        "\n",
        "3. $E[\\hat{\\mathbf{\\Sigma}}^{(MLE)}_a] \\rightarrow \\mathbf{\\Sigma}_a $ as $T \\rightarrow \\infty$ for a fixed $p$ and $k$\n",
        "\n",
        "4. $Cov[vec(\\hat{\\mathbf{\\beta}})] = \\hat{\\mathbf{\\Sigma}}^{(aproach)}_a ⊗ (\\mathbf{X}'\\mathbf{X})^{-1}$ where the $\\hat{\\mathbf{\\Sigma}}^{(aproach)}_a$ depends whether one used LS or MLE.\n",
        "\n",
        "Let us show some demonstration from MTSA on using the matrix operations to derive the estimators based on LS and MLE.\n",
        "\n",
        "We will use the *q-gdp-ukcaus.txt* dataset available in UVLe for this. It is GDP data of UK, Canada, and US from 1980 Q1 to 2011 Q2.\n",
        "\n"
      ],
      "metadata": {
        "id": "hZvdR7DbtKx1"
      }
    },
    {
      "cell_type": "code",
      "source": [
        "## Example Estimation of VAR(1) using LS and MLE using Matrix Operations\n",
        "\n",
        "## before reading the data,\n",
        "## upload data within your local machine or into Google Colab\n",
        "da <- read.table(\"/content/q-gdp-ukcaus.txt\",header=T)\n",
        "\n",
        "head(da) ## peek into the first few rows\n",
        "## Quarterly data of GDP for UK, CA(nada) and US.\n",
        "\n",
        "gdp <- log(da[,3:5]) ## Log Transform of the Data,\n",
        "## a common variance stabilizing transformation\n",
        "\n",
        "dim(gdp) ## number of periods and variables as rows and columns, respectively\n",
        "\n",
        "z <- (gdp[2:126,]-gdp[1:125,]) * 100\n",
        "## Difference of Logarithms approx. = quarter-on-quarter growth rate,\n",
        "## 100 converts into percent.\n",
        "\n",
        "dim(z) ## differencing naturally reduces available sample size\n",
        "\n",
        "z_plot <- ts(z, frequency =4, start = c(1980,2))\n",
        "## Declaring the data as quarterly for plotting purposes\n",
        "\n",
        "autoplot(z_plot, facets = TRUE) ## Plotting the data separately\n",
        "\n",
        "Z <- as.matrix(z[3:125,]) ## our Z matrix for multivar regression\n",
        "## We only used from 3 to 125 because we will do VAR(2)\n",
        "\n",
        "X <- as.matrix( cbind(rep(1,123),z[2:124,],z[1:123,]) )\n",
        "## X matrix, with first column being a column of 1,\n",
        "## and the other columns are lagged values of the growth rates\n",
        "\n",
        "XPX <- t(X)%*%X\n",
        "## X'X , where t() is the transpose function\n",
        "\n",
        "XPXinv <- solve(XPX)\n",
        "## (X'X)^(-1), the solve() function provides the inverse of a matrix\n",
        "\n",
        "XPZ <- t(X)%*%Z\n",
        "## X'Z\n",
        "\n",
        "(bhat <- XPXinv%*%XPZ)\n",
        "## beta_hat = (X'X)^(-1) X'Z\n",
        "## Reading the results:\n",
        "## Column Names = the endogenous variable of the linear regression\n",
        "## associated with the column of estimates\n",
        "## First row of numbers = intercept vector\n",
        "## 2nd - 4th row = VAR(1) coefficients\n",
        "## 5td - 7th row = VAR(2) coefficients\n",
        "\n"
      ],
      "metadata": {
        "colab": {
          "base_uri": "https://localhost:8080/",
          "height": 1000
        },
        "id": "3NHcAQGiFq9S",
        "outputId": "8e4e1b05-2d8d-4b57-d3f4-df1288001c6e"
      },
      "execution_count": null,
      "outputs": [
        {
          "output_type": "display_data",
          "data": {
            "text/html": [
              "<table class=\"dataframe\">\n",
              "<caption>A data.frame: 6 × 5</caption>\n",
              "<thead>\n",
              "\t<tr><th></th><th scope=col>year</th><th scope=col>mon</th><th scope=col>uk</th><th scope=col>ca</th><th scope=col>us</th></tr>\n",
              "\t<tr><th></th><th scope=col>&lt;int&gt;</th><th scope=col>&lt;int&gt;</th><th scope=col>&lt;int&gt;</th><th scope=col>&lt;int&gt;</th><th scope=col>&lt;int&gt;</th></tr>\n",
              "</thead>\n",
              "<tbody>\n",
              "\t<tr><th scope=row>1</th><td>1980</td><td> 1</td><td>172436</td><td>624794</td><td>5908500</td></tr>\n",
              "\t<tr><th scope=row>2</th><td>1980</td><td> 4</td><td>169359</td><td>623433</td><td>5787400</td></tr>\n",
              "\t<tr><th scope=row>3</th><td>1980</td><td> 7</td><td>169038</td><td>623215</td><td>5776600</td></tr>\n",
              "\t<tr><th scope=row>4</th><td>1980</td><td>10</td><td>167180</td><td>630215</td><td>5883500</td></tr>\n",
              "\t<tr><th scope=row>5</th><td>1981</td><td> 1</td><td>166052</td><td>645957</td><td>6005700</td></tr>\n",
              "\t<tr><th scope=row>6</th><td>1981</td><td> 4</td><td>166393</td><td>651954</td><td>5957800</td></tr>\n",
              "</tbody>\n",
              "</table>\n"
            ],
            "text/markdown": "\nA data.frame: 6 × 5\n\n| <!--/--> | year &lt;int&gt; | mon &lt;int&gt; | uk &lt;int&gt; | ca &lt;int&gt; | us &lt;int&gt; |\n|---|---|---|---|---|---|\n| 1 | 1980 |  1 | 172436 | 624794 | 5908500 |\n| 2 | 1980 |  4 | 169359 | 623433 | 5787400 |\n| 3 | 1980 |  7 | 169038 | 623215 | 5776600 |\n| 4 | 1980 | 10 | 167180 | 630215 | 5883500 |\n| 5 | 1981 |  1 | 166052 | 645957 | 6005700 |\n| 6 | 1981 |  4 | 166393 | 651954 | 5957800 |\n\n",
            "text/latex": "A data.frame: 6 × 5\n\\begin{tabular}{r|lllll}\n  & year & mon & uk & ca & us\\\\\n  & <int> & <int> & <int> & <int> & <int>\\\\\n\\hline\n\t1 & 1980 &  1 & 172436 & 624794 & 5908500\\\\\n\t2 & 1980 &  4 & 169359 & 623433 & 5787400\\\\\n\t3 & 1980 &  7 & 169038 & 623215 & 5776600\\\\\n\t4 & 1980 & 10 & 167180 & 630215 & 5883500\\\\\n\t5 & 1981 &  1 & 166052 & 645957 & 6005700\\\\\n\t6 & 1981 &  4 & 166393 & 651954 & 5957800\\\\\n\\end{tabular}\n",
            "text/plain": [
              "  year mon uk     ca     us     \n",
              "1 1980  1  172436 624794 5908500\n",
              "2 1980  4  169359 623433 5787400\n",
              "3 1980  7  169038 623215 5776600\n",
              "4 1980 10  167180 630215 5883500\n",
              "5 1981  1  166052 645957 6005700\n",
              "6 1981  4  166393 651954 5957800"
            ]
          },
          "metadata": {}
        },
        {
          "output_type": "display_data",
          "data": {
            "text/html": [
              "<style>\n",
              ".list-inline {list-style: none; margin:0; padding: 0}\n",
              ".list-inline>li {display: inline-block}\n",
              ".list-inline>li:not(:last-child)::after {content: \"\\00b7\"; padding: 0 .5ex}\n",
              "</style>\n",
              "<ol class=list-inline><li>126</li><li>3</li></ol>\n"
            ],
            "text/markdown": "1. 126\n2. 3\n\n\n",
            "text/latex": "\\begin{enumerate*}\n\\item 126\n\\item 3\n\\end{enumerate*}\n",
            "text/plain": [
              "[1] 126   3"
            ]
          },
          "metadata": {}
        },
        {
          "output_type": "display_data",
          "data": {
            "text/html": [
              "<style>\n",
              ".list-inline {list-style: none; margin:0; padding: 0}\n",
              ".list-inline>li {display: inline-block}\n",
              ".list-inline>li:not(:last-child)::after {content: \"\\00b7\"; padding: 0 .5ex}\n",
              "</style>\n",
              "<ol class=list-inline><li>125</li><li>3</li></ol>\n"
            ],
            "text/markdown": "1. 125\n2. 3\n\n\n",
            "text/latex": "\\begin{enumerate*}\n\\item 125\n\\item 3\n\\end{enumerate*}\n",
            "text/plain": [
              "[1] 125   3"
            ]
          },
          "metadata": {}
        },
        {
          "output_type": "display_data",
          "data": {
            "text/html": [
              "<table class=\"dataframe\">\n",
              "<caption>A matrix: 7 × 3 of type dbl</caption>\n",
              "<thead>\n",
              "\t<tr><th></th><th scope=col>uk</th><th scope=col>ca</th><th scope=col>us</th></tr>\n",
              "</thead>\n",
              "<tbody>\n",
              "\t<tr><th scope=row>rep(1, 123)</th><td>0.12581630</td><td> 0.123158083</td><td> 0.28955814</td></tr>\n",
              "\t<tr><th scope=row>uk</th><td>0.39306691</td><td> 0.351313628</td><td> 0.49069776</td></tr>\n",
              "\t<tr><th scope=row>ca</th><td>0.10310572</td><td> 0.338141505</td><td> 0.24000097</td></tr>\n",
              "\t<tr><th scope=row>us</th><td>0.05213660</td><td> 0.469093555</td><td> 0.23564221</td></tr>\n",
              "\t<tr><th scope=row>uk</th><td>0.05660120</td><td>-0.191350134</td><td>-0.31195550</td></tr>\n",
              "\t<tr><th scope=row>ca</th><td>0.10552241</td><td>-0.174833458</td><td>-0.13117863</td></tr>\n",
              "\t<tr><th scope=row>us</th><td>0.01889462</td><td>-0.008677767</td><td> 0.08531363</td></tr>\n",
              "</tbody>\n",
              "</table>\n"
            ],
            "text/markdown": "\nA matrix: 7 × 3 of type dbl\n\n| <!--/--> | uk | ca | us |\n|---|---|---|---|\n| rep(1, 123) | 0.12581630 |  0.123158083 |  0.28955814 |\n| uk | 0.39306691 |  0.351313628 |  0.49069776 |\n| ca | 0.10310572 |  0.338141505 |  0.24000097 |\n| us | 0.05213660 |  0.469093555 |  0.23564221 |\n| uk | 0.05660120 | -0.191350134 | -0.31195550 |\n| ca | 0.10552241 | -0.174833458 | -0.13117863 |\n| us | 0.01889462 | -0.008677767 |  0.08531363 |\n\n",
            "text/latex": "A matrix: 7 × 3 of type dbl\n\\begin{tabular}{r|lll}\n  & uk & ca & us\\\\\n\\hline\n\trep(1, 123) & 0.12581630 &  0.123158083 &  0.28955814\\\\\n\tuk & 0.39306691 &  0.351313628 &  0.49069776\\\\\n\tca & 0.10310572 &  0.338141505 &  0.24000097\\\\\n\tus & 0.05213660 &  0.469093555 &  0.23564221\\\\\n\tuk & 0.05660120 & -0.191350134 & -0.31195550\\\\\n\tca & 0.10552241 & -0.174833458 & -0.13117863\\\\\n\tus & 0.01889462 & -0.008677767 &  0.08531363\\\\\n\\end{tabular}\n",
            "text/plain": [
              "            uk         ca           us         \n",
              "rep(1, 123) 0.12581630  0.123158083  0.28955814\n",
              "uk          0.39306691  0.351313628  0.49069776\n",
              "ca          0.10310572  0.338141505  0.24000097\n",
              "us          0.05213660  0.469093555  0.23564221\n",
              "uk          0.05660120 -0.191350134 -0.31195550\n",
              "ca          0.10552241 -0.174833458 -0.13117863\n",
              "us          0.01889462 -0.008677767  0.08531363"
            ]
          },
          "metadata": {}
        },
        {
          "output_type": "display_data",
          "data": {
            "text/plain": [
              "plot without title"
            ],
            "image/png": "[encoded data removed]"
          },
          "metadata": {
            "image/png": {
              "width": 420,
              "height": 420
            }
          }
        }
      ]
    },
    {
      "cell_type": "code",
      "source": [
        "## LS & ML Estimate for the Cov_A, residual covariance matrix\n",
        "\n",
        "A <- Z - X %*% bhat ## Residual Matrix\n",
        "\n",
        "(Sig <- t(A) %*% A / (125-(3+1)*2-1))\n",
        "## LS Estimate of Residual Covariance, Unbiased Estimator\n",
        "\n",
        "(Sig1 <- t(A) %*% A / (125-2))\n",
        "## ML Estimate of Residual Covariance, Biased Estimator"
      ],
      "metadata": {
        "colab": {
          "base_uri": "https://localhost:8080/",
          "height": 305
        },
        "id": "EIovjYzP828O",
        "outputId": "0d682b6f-303a-48b3-eaf5-6baffa19de90"
      },
      "execution_count": null,
      "outputs": [
        {
          "output_type": "display_data",
          "data": {
            "text/html": [
              "<table class=\"dataframe\">\n",
              "<caption>A matrix: 3 × 3 of type dbl</caption>\n",
              "<thead>\n",
              "\t<tr><th></th><th scope=col>uk</th><th scope=col>ca</th><th scope=col>us</th></tr>\n",
              "</thead>\n",
              "<tbody>\n",
              "\t<tr><th scope=row>uk</th><td>0.29948825</td><td>0.02814252</td><td>0.07883967</td></tr>\n",
              "\t<tr><th scope=row>ca</th><td>0.02814252</td><td>0.30917711</td><td>0.14790523</td></tr>\n",
              "\t<tr><th scope=row>us</th><td>0.07883967</td><td>0.14790523</td><td>0.37850674</td></tr>\n",
              "</tbody>\n",
              "</table>\n"
            ],
            "text/markdown": "\nA matrix: 3 × 3 of type dbl\n\n| <!--/--> | uk | ca | us |\n|---|---|---|---|\n| uk | 0.29948825 | 0.02814252 | 0.07883967 |\n| ca | 0.02814252 | 0.30917711 | 0.14790523 |\n| us | 0.07883967 | 0.14790523 | 0.37850674 |\n\n",
            "text/latex": "A matrix: 3 × 3 of type dbl\n\\begin{tabular}{r|lll}\n  & uk & ca & us\\\\\n\\hline\n\tuk & 0.29948825 & 0.02814252 & 0.07883967\\\\\n\tca & 0.02814252 & 0.30917711 & 0.14790523\\\\\n\tus & 0.07883967 & 0.14790523 & 0.37850674\\\\\n\\end{tabular}\n",
            "text/plain": [
              "   uk         ca         us        \n",
              "uk 0.29948825 0.02814252 0.07883967\n",
              "ca 0.02814252 0.30917711 0.14790523\n",
              "us 0.07883967 0.14790523 0.37850674"
            ]
          },
          "metadata": {}
        },
        {
          "output_type": "display_data",
          "data": {
            "text/html": [
              "<table class=\"dataframe\">\n",
              "<caption>A matrix: 3 × 3 of type dbl</caption>\n",
              "<thead>\n",
              "\t<tr><th></th><th scope=col>uk</th><th scope=col>ca</th><th scope=col>us</th></tr>\n",
              "</thead>\n",
              "<tbody>\n",
              "\t<tr><th scope=row>uk</th><td>0.28244420</td><td>0.02654091</td><td>0.07435286</td></tr>\n",
              "\t<tr><th scope=row>ca</th><td>0.02654091</td><td>0.29158166</td><td>0.13948786</td></tr>\n",
              "\t<tr><th scope=row>us</th><td>0.07435286</td><td>0.13948786</td><td>0.35696571</td></tr>\n",
              "</tbody>\n",
              "</table>\n"
            ],
            "text/markdown": "\nA matrix: 3 × 3 of type dbl\n\n| <!--/--> | uk | ca | us |\n|---|---|---|---|\n| uk | 0.28244420 | 0.02654091 | 0.07435286 |\n| ca | 0.02654091 | 0.29158166 | 0.13948786 |\n| us | 0.07435286 | 0.13948786 | 0.35696571 |\n\n",
            "text/latex": "A matrix: 3 × 3 of type dbl\n\\begin{tabular}{r|lll}\n  & uk & ca & us\\\\\n\\hline\n\tuk & 0.28244420 & 0.02654091 & 0.07435286\\\\\n\tca & 0.02654091 & 0.29158166 & 0.13948786\\\\\n\tus & 0.07435286 & 0.13948786 & 0.35696571\\\\\n\\end{tabular}\n",
            "text/plain": [
              "   uk         ca         us        \n",
              "uk 0.28244420 0.02654091 0.07435286\n",
              "ca 0.02654091 0.29158166 0.13948786\n",
              "us 0.07435286 0.13948786 0.35696571"
            ]
          },
          "metadata": {}
        }
      ]
    },
    {
      "cell_type": "code",
      "source": [
        "## Using the LS Approach, Solve for SE and Test Stats of Betas\n",
        "\n",
        "beta <- matrixcalc::vec(bhat) ## Vectorize the bhat matrix into a column vector\n",
        "\n",
        "COV_beta <- kronecker(Sig,XPXinv) ## Covariance matrix of beta\n",
        "\n",
        "\n",
        "se <- sqrt(diag(COV_beta)) ## Extracting the Standard Error of beta\n",
        "\n",
        "name_mat <- matrix(NA, nrow = 7, ncol = 3) ## container for coef names\n",
        "\n",
        "for (i in 1:7) {\n",
        "  for (j in 1:3) {\n",
        "    name_mat[i,j] <- paste0(rownames(bhat)[i],\"_\", colnames(bhat)[j])\n",
        "    ## Assigning coef names\n",
        "  }\n",
        "}\n",
        "\n",
        "coef_name <- rbind(as.matrix(name_mat[,1]), as.matrix(name_mat[,2]),\n",
        "                  as.matrix(name_mat[,3]) )\n",
        "                  ## vectorizing coef names\n",
        "\n",
        "( para <- data.frame( coef_name = coef_name,\n",
        "                      beta = beta,\n",
        "                      se = se,\n",
        "                      t_ratio = beta/se,\n",
        "                      Sig_YN = abs(beta/se) > 2)\n",
        "                      )"
      ],
      "metadata": {
        "colab": {
          "base_uri": "https://localhost:8080/",
          "height": 757
        },
        "id": "ICPSFg6k9esT",
        "outputId": "4a047d58-7ef6-4c5d-9f2c-dd01d4cb4d6a"
      },
      "execution_count": null,
      "outputs": [
        {
          "output_type": "display_data",
          "data": {
            "text/html": [
              "<table class=\"dataframe\">\n",
              "<caption>A data.frame: 21 × 5</caption>\n",
              "<thead>\n",
              "\t<tr><th scope=col>coef_name</th><th scope=col>beta</th><th scope=col>se</th><th scope=col>t_ratio</th><th scope=col>Sig_YN</th></tr>\n",
              "\t<tr><th scope=col>&lt;chr&gt;</th><th scope=col>&lt;dbl&gt;</th><th scope=col>&lt;dbl&gt;</th><th scope=col>&lt;dbl&gt;</th><th scope=col>&lt;lgl&gt;</th></tr>\n",
              "</thead>\n",
              "<tbody>\n",
              "\t<tr><td>rep(1, 123)_uk</td><td> 0.125816304</td><td>0.07266338</td><td> 1.7314953</td><td>FALSE</td></tr>\n",
              "\t<tr><td>uk_uk         </td><td> 0.393066914</td><td>0.09341839</td><td> 4.2075968</td><td> TRUE</td></tr>\n",
              "\t<tr><td>ca_uk         </td><td> 0.103105720</td><td>0.09838425</td><td> 1.0479901</td><td>FALSE</td></tr>\n",
              "\t<tr><td>us_uk         </td><td> 0.052136600</td><td>0.09112636</td><td> 0.5721353</td><td>FALSE</td></tr>\n",
              "\t<tr><td>uk_uk         </td><td> 0.056601196</td><td>0.09237356</td><td> 0.6127424</td><td>FALSE</td></tr>\n",
              "\t<tr><td>ca_uk         </td><td> 0.105522415</td><td>0.08755896</td><td> 1.2051584</td><td>FALSE</td></tr>\n",
              "\t<tr><td>us_uk         </td><td> 0.018894618</td><td>0.09382091</td><td> 0.2013903</td><td>FALSE</td></tr>\n",
              "\t<tr><td>rep(1, 123)_ca</td><td> 0.123158083</td><td>0.07382941</td><td> 1.6681440</td><td>FALSE</td></tr>\n",
              "\t<tr><td>uk_ca         </td><td> 0.351313628</td><td>0.09491747</td><td> 3.7012536</td><td> TRUE</td></tr>\n",
              "\t<tr><td>ca_ca         </td><td> 0.338141505</td><td>0.09996302</td><td> 3.3826660</td><td> TRUE</td></tr>\n",
              "\t<tr><td>us_ca         </td><td> 0.469093555</td><td>0.09258865</td><td> 5.0664259</td><td> TRUE</td></tr>\n",
              "\t<tr><td>uk_ca         </td><td>-0.191350134</td><td>0.09385587</td><td>-2.0387658</td><td> TRUE</td></tr>\n",
              "\t<tr><td>ca_ca         </td><td>-0.174833458</td><td>0.08896401</td><td>-1.9652155</td><td>FALSE</td></tr>\n",
              "\t<tr><td>us_ca         </td><td>-0.008677767</td><td>0.09532645</td><td>-0.0910321</td><td>FALSE</td></tr>\n",
              "\t<tr><td>rep(1, 123)_us</td><td> 0.289558145</td><td>0.08168880</td><td> 3.5446492</td><td> TRUE</td></tr>\n",
              "\t<tr><td>uk_us         </td><td> 0.490697759</td><td>0.10502176</td><td> 4.6723437</td><td> TRUE</td></tr>\n",
              "\t<tr><td>ca_us         </td><td> 0.240000969</td><td>0.11060443</td><td> 2.1699038</td><td> TRUE</td></tr>\n",
              "\t<tr><td>us_us         </td><td> 0.235642214</td><td>0.10244504</td><td> 2.3001819</td><td> TRUE</td></tr>\n",
              "\t<tr><td>uk_us         </td><td>-0.311955500</td><td>0.10384715</td><td>-3.0039871</td><td> TRUE</td></tr>\n",
              "\t<tr><td>ca_us         </td><td>-0.131178630</td><td>0.09843454</td><td>-1.3326484</td><td>FALSE</td></tr>\n",
              "\t<tr><td>us_us         </td><td> 0.085313633</td><td>0.10547428</td><td> 0.8088572</td><td>FALSE</td></tr>\n",
              "</tbody>\n",
              "</table>\n"
            ],
            "text/markdown": "\nA data.frame: 21 × 5\n\n| coef_name &lt;chr&gt; | beta &lt;dbl&gt; | se &lt;dbl&gt; | t_ratio &lt;dbl&gt; | Sig_YN &lt;lgl&gt; |\n|---|---|---|---|---|\n| rep(1, 123)_uk |  0.125816304 | 0.07266338 |  1.7314953 | FALSE |\n| uk_uk          |  0.393066914 | 0.09341839 |  4.2075968 |  TRUE |\n| ca_uk          |  0.103105720 | 0.09838425 |  1.0479901 | FALSE |\n| us_uk          |  0.052136600 | 0.09112636 |  0.5721353 | FALSE |\n| uk_uk          |  0.056601196 | 0.09237356 |  0.6127424 | FALSE |\n| ca_uk          |  0.105522415 | 0.08755896 |  1.2051584 | FALSE |\n| us_uk          |  0.018894618 | 0.09382091 |  0.2013903 | FALSE |\n| rep(1, 123)_ca |  0.123158083 | 0.07382941 |  1.6681440 | FALSE |\n| uk_ca          |  0.351313628 | 0.09491747 |  3.7012536 |  TRUE |\n| ca_ca          |  0.338141505 | 0.09996302 |  3.3826660 |  TRUE |\n| us_ca          |  0.469093555 | 0.09258865 |  5.0664259 |  TRUE |\n| uk_ca          | -0.191350134 | 0.09385587 | -2.0387658 |  TRUE |\n| ca_ca          | -0.174833458 | 0.08896401 | -1.9652155 | FALSE |\n| us_ca          | -0.008677767 | 0.09532645 | -0.0910321 | FALSE |\n| rep(1, 123)_us |  0.289558145 | 0.08168880 |  3.5446492 |  TRUE |\n| uk_us          |  0.490697759 | 0.10502176 |  4.6723437 |  TRUE |\n| ca_us          |  0.240000969 | 0.11060443 |  2.1699038 |  TRUE |\n| us_us          |  0.235642214 | 0.10244504 |  2.3001819 |  TRUE |\n| uk_us          | -0.311955500 | 0.10384715 | -3.0039871 |  TRUE |\n| ca_us          | -0.131178630 | 0.09843454 | -1.3326484 | FALSE |\n| us_us          |  0.085313633 | 0.10547428 |  0.8088572 | FALSE |\n\n",
            "text/latex": "A data.frame: 21 × 5\n\\begin{tabular}{lllll}\n coef\\_name & beta & se & t\\_ratio & Sig\\_YN\\\\\n <chr> & <dbl> & <dbl> & <dbl> & <lgl>\\\\\n\\hline\n\t rep(1, 123)\\_uk &  0.125816304 & 0.07266338 &  1.7314953 & FALSE\\\\\n\t uk\\_uk          &  0.393066914 & 0.09341839 &  4.2075968 &  TRUE\\\\\n\t ca\\_uk          &  0.103105720 & 0.09838425 &  1.0479901 & FALSE\\\\\n\t us\\_uk          &  0.052136600 & 0.09112636 &  0.5721353 & FALSE\\\\\n\t uk\\_uk          &  0.056601196 & 0.09237356 &  0.6127424 & FALSE\\\\\n\t ca\\_uk          &  0.105522415 & 0.08755896 &  1.2051584 & FALSE\\\\\n\t us\\_uk          &  0.018894618 & 0.09382091 &  0.2013903 & FALSE\\\\\n\t rep(1, 123)\\_ca &  0.123158083 & 0.07382941 &  1.6681440 & FALSE\\\\\n\t uk\\_ca          &  0.351313628 & 0.09491747 &  3.7012536 &  TRUE\\\\\n\t ca\\_ca          &  0.338141505 & 0.09996302 &  3.3826660 &  TRUE\\\\\n\t us\\_ca          &  0.469093555 & 0.09258865 &  5.0664259 &  TRUE\\\\\n\t uk\\_ca          & -0.191350134 & 0.09385587 & -2.0387658 &  TRUE\\\\\n\t ca\\_ca          & -0.174833458 & 0.08896401 & -1.9652155 & FALSE\\\\\n\t us\\_ca          & -0.008677767 & 0.09532645 & -0.0910321 & FALSE\\\\\n\t rep(1, 123)\\_us &  0.289558145 & 0.08168880 &  3.5446492 &  TRUE\\\\\n\t uk\\_us          &  0.490697759 & 0.10502176 &  4.6723437 &  TRUE\\\\\n\t ca\\_us          &  0.240000969 & 0.11060443 &  2.1699038 &  TRUE\\\\\n\t us\\_us          &  0.235642214 & 0.10244504 &  2.3001819 &  TRUE\\\\\n\t uk\\_us          & -0.311955500 & 0.10384715 & -3.0039871 &  TRUE\\\\\n\t ca\\_us          & -0.131178630 & 0.09843454 & -1.3326484 & FALSE\\\\\n\t us\\_us          &  0.085313633 & 0.10547428 &  0.8088572 & FALSE\\\\\n\\end{tabular}\n",
            "text/plain": [
              "   coef_name      beta         se         t_ratio    Sig_YN\n",
              "1  rep(1, 123)_uk  0.125816304 0.07266338  1.7314953 FALSE \n",
              "2  uk_uk           0.393066914 0.09341839  4.2075968  TRUE \n",
              "3  ca_uk           0.103105720 0.09838425  1.0479901 FALSE \n",
              "4  us_uk           0.052136600 0.09112636  0.5721353 FALSE \n",
              "5  uk_uk           0.056601196 0.09237356  0.6127424 FALSE \n",
              "6  ca_uk           0.105522415 0.08755896  1.2051584 FALSE \n",
              "7  us_uk           0.018894618 0.09382091  0.2013903 FALSE \n",
              "8  rep(1, 123)_ca  0.123158083 0.07382941  1.6681440 FALSE \n",
              "9  uk_ca           0.351313628 0.09491747  3.7012536  TRUE \n",
              "10 ca_ca           0.338141505 0.09996302  3.3826660  TRUE \n",
              "11 us_ca           0.469093555 0.09258865  5.0664259  TRUE \n",
              "12 uk_ca          -0.191350134 0.09385587 -2.0387658  TRUE \n",
              "13 ca_ca          -0.174833458 0.08896401 -1.9652155 FALSE \n",
              "14 us_ca          -0.008677767 0.09532645 -0.0910321 FALSE \n",
              "15 rep(1, 123)_us  0.289558145 0.08168880  3.5446492  TRUE \n",
              "16 uk_us           0.490697759 0.10502176  4.6723437  TRUE \n",
              "17 ca_us           0.240000969 0.11060443  2.1699038  TRUE \n",
              "18 us_us           0.235642214 0.10244504  2.3001819  TRUE \n",
              "19 uk_us          -0.311955500 0.10384715 -3.0039871  TRUE \n",
              "20 ca_us          -0.131178630 0.09843454 -1.3326484 FALSE \n",
              "21 us_us           0.085313633 0.10547428  0.8088572 FALSE "
            ]
          },
          "metadata": {}
        }
      ]
    },
    {
      "cell_type": "markdown",
      "source": [
        "On the next set of code, we estimate a VAR model using available simplified syntax."
      ],
      "metadata": {
        "id": "IYPv0Wmy5F9s"
      }
    },
    {
      "cell_type": "code",
      "source": [
        "## Using MTS package\n",
        "\n",
        "m1 <- VAR(z,2) ## Estimating a VAR(2) Model with the same data\n",
        "\n",
        "summary(m1) ## Summary of results"
      ],
      "metadata": {
        "colab": {
          "base_uri": "https://localhost:8080/",
          "height": 1000
        },
        "id": "y3zaxuBz5FjF",
        "outputId": "55b86d82-8e41-46e3-e454-58f6638d7255"
      },
      "execution_count": null,
      "outputs": [
        {
          "output_type": "display_data",
          "data": {
            "text/plain": [
              "\n",
              "VAR Estimation Results:\n",
              "========================= \n",
              "Endogenous variables: uk, ca, us \n",
              "Deterministic variables: const \n",
              "Sample size: 123 \n",
              "Log Likelihood: -290.487 \n",
              "Roots of the characteristic polynomial:\n",
              "0.6136 0.6136 0.356 0.3321 0.3321 0.03676\n",
              "Call:\n",
              "VAR(y = z, p = 2)\n",
              "\n",
              "\n",
              "Estimation results for equation uk: \n",
              "=================================== \n",
              "uk = uk.l1 + ca.l1 + us.l1 + uk.l2 + ca.l2 + us.l2 + const \n",
              "\n",
              "      Estimate Std. Error t value Pr(>|t|)    \n",
              "uk.l1  0.39307    0.09342   4.208 5.11e-05 ***\n",
              "ca.l1  0.10311    0.09838   1.048    0.297    \n",
              "us.l1  0.05214    0.09113   0.572    0.568    \n",
              "uk.l2  0.05660    0.09237   0.613    0.541    \n",
              "ca.l2  0.10552    0.08756   1.205    0.231    \n",
              "us.l2  0.01889    0.09382   0.201    0.841    \n",
              "const  0.12582    0.07266   1.731    0.086 .  \n",
              "---\n",
              "Signif. codes:  0 ‘***’ 0.001 ‘**’ 0.01 ‘*’ 0.05 ‘.’ 0.1 ‘ ’ 1\n",
              "\n",
              "\n",
              "Residual standard error: 0.5473 on 116 degrees of freedom\n",
              "Multiple R-Squared: 0.3829,\tAdjusted R-squared: 0.3509 \n",
              "F-statistic: 11.99 on 6 and 116 DF,  p-value: 1.907e-10 \n",
              "\n",
              "\n",
              "Estimation results for equation ca: \n",
              "=================================== \n",
              "ca = uk.l1 + ca.l1 + us.l1 + uk.l2 + ca.l2 + us.l2 + const \n",
              "\n",
              "       Estimate Std. Error t value Pr(>|t|)    \n",
              "uk.l1  0.351314   0.094917   3.701 0.000330 ***\n",
              "ca.l1  0.338142   0.099963   3.383 0.000979 ***\n",
              "us.l1  0.469094   0.092589   5.066 1.55e-06 ***\n",
              "uk.l2 -0.191350   0.093856  -2.039 0.043747 *  \n",
              "ca.l2 -0.174833   0.088964  -1.965 0.051780 .  \n",
              "us.l2 -0.008678   0.095326  -0.091 0.927624    \n",
              "const  0.123158   0.073829   1.668 0.097984 .  \n",
              "---\n",
              "Signif. codes:  0 ‘***’ 0.001 ‘**’ 0.01 ‘*’ 0.05 ‘.’ 0.1 ‘ ’ 1\n",
              "\n",
              "\n",
              "Residual standard error: 0.556 on 116 degrees of freedom\n",
              "Multiple R-Squared: 0.5238,\tAdjusted R-squared: 0.4992 \n",
              "F-statistic: 21.27 on 6 and 116 DF,  p-value: < 2.2e-16 \n",
              "\n",
              "\n",
              "Estimation results for equation us: \n",
              "=================================== \n",
              "us = uk.l1 + ca.l1 + us.l1 + uk.l2 + ca.l2 + us.l2 + const \n",
              "\n",
              "      Estimate Std. Error t value Pr(>|t|)    \n",
              "uk.l1  0.49070    0.10502   4.672 8.08e-06 ***\n",
              "ca.l1  0.24000    0.11060   2.170 0.032053 *  \n",
              "us.l1  0.23564    0.10245   2.300 0.023226 *  \n",
              "uk.l2 -0.31196    0.10385  -3.004 0.003265 ** \n",
              "ca.l2 -0.13118    0.09843  -1.333 0.185259    \n",
              "us.l2  0.08531    0.10547   0.809 0.420253    \n",
              "const  0.28956    0.08169   3.545 0.000568 ***\n",
              "---\n",
              "Signif. codes:  0 ‘***’ 0.001 ‘**’ 0.01 ‘*’ 0.05 ‘.’ 0.1 ‘ ’ 1\n",
              "\n",
              "\n",
              "Residual standard error: 0.6152 on 116 degrees of freedom\n",
              "Multiple R-Squared: 0.3606,\tAdjusted R-squared: 0.3276 \n",
              "F-statistic:  10.9 on 6 and 116 DF,  p-value: 1.325e-09 \n",
              "\n",
              "\n",
              "\n",
              "Covariance matrix of residuals:\n",
              "        uk      ca      us\n",
              "uk 0.29949 0.02814 0.07884\n",
              "ca 0.02814 0.30918 0.14791\n",
              "us 0.07884 0.14791 0.37851\n",
              "\n",
              "Correlation matrix of residuals:\n",
              "        uk      ca     us\n",
              "uk 1.00000 0.09248 0.2342\n",
              "ca 0.09248 1.00000 0.4324\n",
              "us 0.23416 0.43236 1.0000\n",
              "\n"
            ]
          },
          "metadata": {}
        }
      ]
    },
    {
      "cell_type": "code",
      "source": [
        "## Using vars package from AICTSR\n",
        "\n",
        "varsmod <- VAR( z , p = 2 , type = \"const\" , season = NULL, exogen = NULL)\n",
        "\n",
        "summary(varsmod)"
      ],
      "metadata": {
        "colab": {
          "base_uri": "https://localhost:8080/",
          "height": 1000
        },
        "id": "Af__v3HYX1Mz",
        "outputId": "b6d7a454-2c5e-464a-a8a5-189d1c48fb7f"
      },
      "execution_count": null,
      "outputs": [
        {
          "output_type": "display_data",
          "data": {
            "text/plain": [
              "\n",
              "VAR Estimation Results:\n",
              "========================= \n",
              "Endogenous variables: uk, ca, us \n",
              "Deterministic variables: const \n",
              "Sample size: 123 \n",
              "Log Likelihood: -290.487 \n",
              "Roots of the characteristic polynomial:\n",
              "0.6136 0.6136 0.356 0.3321 0.3321 0.03676\n",
              "Call:\n",
              "VAR(y = z, p = 2, type = \"const\", exogen = NULL)\n",
              "\n",
              "\n",
              "Estimation results for equation uk: \n",
              "=================================== \n",
              "uk = uk.l1 + ca.l1 + us.l1 + uk.l2 + ca.l2 + us.l2 + const \n",
              "\n",
              "      Estimate Std. Error t value Pr(>|t|)    \n",
              "uk.l1  0.39307    0.09342   4.208 5.11e-05 ***\n",
              "ca.l1  0.10311    0.09838   1.048    0.297    \n",
              "us.l1  0.05214    0.09113   0.572    0.568    \n",
              "uk.l2  0.05660    0.09237   0.613    0.541    \n",
              "ca.l2  0.10552    0.08756   1.205    0.231    \n",
              "us.l2  0.01889    0.09382   0.201    0.841    \n",
              "const  0.12582    0.07266   1.731    0.086 .  \n",
              "---\n",
              "Signif. codes:  0 ‘***’ 0.001 ‘**’ 0.01 ‘*’ 0.05 ‘.’ 0.1 ‘ ’ 1\n",
              "\n",
              "\n",
              "Residual standard error: 0.5473 on 116 degrees of freedom\n",
              "Multiple R-Squared: 0.3829,\tAdjusted R-squared: 0.3509 \n",
              "F-statistic: 11.99 on 6 and 116 DF,  p-value: 1.907e-10 \n",
              "\n",
              "\n",
              "Estimation results for equation ca: \n",
              "=================================== \n",
              "ca = uk.l1 + ca.l1 + us.l1 + uk.l2 + ca.l2 + us.l2 + const \n",
              "\n",
              "       Estimate Std. Error t value Pr(>|t|)    \n",
              "uk.l1  0.351314   0.094917   3.701 0.000330 ***\n",
              "ca.l1  0.338142   0.099963   3.383 0.000979 ***\n",
              "us.l1  0.469094   0.092589   5.066 1.55e-06 ***\n",
              "uk.l2 -0.191350   0.093856  -2.039 0.043747 *  \n",
              "ca.l2 -0.174833   0.088964  -1.965 0.051780 .  \n",
              "us.l2 -0.008678   0.095326  -0.091 0.927624    \n",
              "const  0.123158   0.073829   1.668 0.097984 .  \n",
              "---\n",
              "Signif. codes:  0 ‘***’ 0.001 ‘**’ 0.01 ‘*’ 0.05 ‘.’ 0.1 ‘ ’ 1\n",
              "\n",
              "\n",
              "Residual standard error: 0.556 on 116 degrees of freedom\n",
              "Multiple R-Squared: 0.5238,\tAdjusted R-squared: 0.4992 \n",
              "F-statistic: 21.27 on 6 and 116 DF,  p-value: < 2.2e-16 \n",
              "\n",
              "\n",
              "Estimation results for equation us: \n",
              "=================================== \n",
              "us = uk.l1 + ca.l1 + us.l1 + uk.l2 + ca.l2 + us.l2 + const \n",
              "\n",
              "      Estimate Std. Error t value Pr(>|t|)    \n",
              "uk.l1  0.49070    0.10502   4.672 8.08e-06 ***\n",
              "ca.l1  0.24000    0.11060   2.170 0.032053 *  \n",
              "us.l1  0.23564    0.10245   2.300 0.023226 *  \n",
              "uk.l2 -0.31196    0.10385  -3.004 0.003265 ** \n",
              "ca.l2 -0.13118    0.09843  -1.333 0.185259    \n",
              "us.l2  0.08531    0.10547   0.809 0.420253    \n",
              "const  0.28956    0.08169   3.545 0.000568 ***\n",
              "---\n",
              "Signif. codes:  0 ‘***’ 0.001 ‘**’ 0.01 ‘*’ 0.05 ‘.’ 0.1 ‘ ’ 1\n",
              "\n",
              "\n",
              "Residual standard error: 0.6152 on 116 degrees of freedom\n",
              "Multiple R-Squared: 0.3606,\tAdjusted R-squared: 0.3276 \n",
              "F-statistic:  10.9 on 6 and 116 DF,  p-value: 1.325e-09 \n",
              "\n",
              "\n",
              "\n",
              "Covariance matrix of residuals:\n",
              "        uk      ca      us\n",
              "uk 0.29949 0.02814 0.07884\n",
              "ca 0.02814 0.30918 0.14791\n",
              "us 0.07884 0.14791 0.37851\n",
              "\n",
              "Correlation matrix of residuals:\n",
              "        uk      ca     us\n",
              "uk 1.00000 0.09248 0.2342\n",
              "ca 0.09248 1.00000 0.4324\n",
              "us 0.23416 0.43236 1.0000\n",
              "\n"
            ]
          },
          "metadata": {}
        }
      ]
    },
    {
      "cell_type": "markdown",
      "source": [
        "#### Bayesian VAR Approach\n",
        "\n",
        "The full Bayesian result is available in MTSA and we will not discuss its derivation, but we can look at a specific cases of interest.\n",
        "\n",
        "##### Case 1: Approximate MLE Approach\n",
        "\n",
        "Below we have a specific case in which **all of the following apply**:\n",
        "\n",
        "* $\\mathbf{\\beta}_o = \\hat{\\mathbf{\\beta}}$, which can be chosen under the idea of empirical Bayesian analysis,\n",
        "* $\\mathbf{C} = \\lambda \\mathbf{I}_{(kp+1)}$, where $\\lambda$ is a constant scalar\n",
        "* $\\mathbf{V}_o = \\delta \\mathbf{I}_{(kp+1)}$, where $\\delta$ is a constant scalar, and\n",
        "* $n_o = k +1 $,\n",
        "\n",
        "then:\n",
        "\n",
        "1. $\\hat{\\mathbf{\\beta}}^{(BVAR)} = \\hat{\\mathbf{\\beta}} $\n",
        "\n",
        "2. $\\hat{\\mathbf{\\Sigma}}^{(BVAR)}_a = \\frac{1}{T - p } [\\delta \\mathbf{I}_{(kp+1)} + \\hat{\\mathbf{A}}'\\hat{\\mathbf{A}}]$\n",
        "\n",
        "3. $Cov \\left[ vec\\left(\\hat{\\mathbf{\\beta}}^{(BVAR)} \\right) \\right] = \\hat{\\mathbf{\\Sigma}}^{(BVAR)}_a ⊗ (\\mathbf{X}'\\mathbf{X} + \\lambda \\mathbf{I}_{(kp+1)} )^{-1}$\n",
        "\n",
        "Comments:\n",
        "\n",
        "* All three methods, i.e., LS, ML, and empirical BVAR, lead to the same estimator for the regression parameters of $VAR(p)$\n",
        "* If we let $\\delta \\rightarrow 0$ and $\\lambda \\rightarrow 0$, then $\\hat{\\mathbf{\\Sigma}}^{(BVAR)}_a \\rightarrow \\hat{\\mathbf{\\Sigma}}^{(MLE)}_a$ and $Cov \\left[ vec\\left(\\hat{\\mathbf{\\beta}}^{(BVAR)} \\right) \\right] \\rightarrow Cov \\left[ vec\\left(\\hat{\\mathbf{\\beta}}^{(MLE)} \\right) \\right] $\n",
        "\n",
        "##### Case 2: Ridge Regression\n",
        "\n",
        "Below we have a specific case in which **all of the following apply**:\n",
        "\n",
        "* $\\mathbf{\\beta}_o = \\mathbf{0}_{(kp + 1) \\times k}$,\n",
        "* $\\mathbf{C} = \\lambda \\mathbf{I}_{(kp+1)}$, where $\\lambda$ is a constant scalar\n",
        "* $\\mathbf{V}_o = \\delta \\mathbf{I}_{(kp+1)}$, where $\\delta$ is a constant scalar, and\n",
        "* $n_o = k +1 $,\n",
        "\n",
        "then:\n",
        "\n",
        "1. $\\hat{\\mathbf{\\beta}}^{(BVAR)} = \\hat{\\mathbf{\\beta}}^{(ridge)} = (\\mathbf{X}'\\mathbf{X} + \\lambda \\mathbf{I}_{(kp+1)})^{-1} \\mathbf{X}'\\mathbf{Z} $, which is the ridge regression estimator\n",
        "\n",
        "2. $\\hat{\\mathbf{\\Sigma}}^{(ridge)}_a = \\frac{1}{T - p } \\left[\\delta \\mathbf{I}_{(kp+1)} + \\left(\\mathbf{Z} - \\mathbf{X}\\hat{\\mathbf{\\beta}}^{(ridge)} \\right) ' \\left(\\mathbf{Z} - \\mathbf{X}\\hat{\\mathbf{\\beta}}^{(ridge)} \\right) + \\lambda  \\hat{\\mathbf{\\beta}}^{(ridge)'}  \\hat{\\mathbf{\\beta}}^{(ridge)} \\right] $\n",
        "\n",
        "3. $Cov \\left[ vec\\left(\\hat{\\mathbf{\\beta}}^{(ridge)} \\right) \\right] = \\hat{\\mathbf{\\Sigma}}^{(ridge)}_a ⊗ (\\mathbf{X}'\\mathbf{X} + \\lambda \\mathbf{I}_{(kp+1)} )^{-1}$\n",
        "\n",
        "Comments:\n",
        "\n",
        "* As $\\lambda \\rightarrow 0$, then $\\hat{\\mathbf{\\beta}}^{(ridge)} \\rightarrow \\hat{\\mathbf{\\beta}}$\n",
        "* If we let $\\delta \\rightarrow 0$ and $\\lambda \\rightarrow 0$, then $\\hat{\\mathbf{\\Sigma}}^{(ridge)}_a \\rightarrow \\hat{\\mathbf{\\Sigma}}^{(MLE)}_a$ and $Cov \\left[ vec\\left(\\hat{\\mathbf{\\beta}}^{(ridge)} \\right) \\right] \\rightarrow Cov \\left[ vec\\left(\\hat{\\mathbf{\\beta}}^{(MLE)} \\right) \\right] $\n",
        "\n",
        "Let's show an example code with the UKCAUS Data."
      ],
      "metadata": {
        "id": "rOA_3iONFYyg"
      }
    },
    {
      "cell_type": "code",
      "source": [
        "## Bayesian Estimation Using the Same UKCAUS Dataset\n",
        "\n",
        "## Approximate MLE Case\n",
        "C <- 0.1 *diag(7) ## lambda = 0.1 for lambda*I_7\n",
        "V0 <- diag(3) ## = I_3\n",
        "Phi0 <- bhat ## Assuming that MLE is the prior mean, empirical Bayesian approach\n",
        "\n",
        "m_ridge <- BVAR(z,p=2,C,V0, Phi0 = bhat)\n",
        "para # LS Estimate for reference"
      ],
      "metadata": {
        "colab": {
          "base_uri": "https://localhost:8080/",
          "height": 1000
        },
        "outputId": "8a103785-5ef7-40d5-b5f8-e19fcd47b37d",
        "id": "SduwciRx9f_4"
      },
      "execution_count": null,
      "outputs": [
        {
          "output_type": "stream",
          "name": "stdout",
          "text": [
            "Bayesian estimate: \n",
            "               Est       s.e.     t-ratio\n",
            " [1,]  0.125816304 0.07121086  1.76681335\n",
            " [2,]  0.393066914 0.09148230  4.29664430\n",
            " [3,]  0.103105720 0.09631155  1.07054370\n",
            " [4,]  0.052136600 0.08923016  0.58429349\n",
            " [5,]  0.056601196 0.09046216  0.62568917\n",
            " [6,]  0.105522415 0.08575627  1.23049210\n",
            " [7,]  0.018894618 0.09186215  0.20568447\n",
            " [8,]  0.123158083 0.07232185  1.70291659\n",
            " [9,]  0.351313628 0.09290956  3.78124325\n",
            "[10,]  0.338141505 0.09781414  3.45697971\n",
            "[11,]  0.469093555 0.09062227  5.17636047\n",
            "[12,] -0.191350134 0.09187350 -2.08275654\n",
            "[13,] -0.174833458 0.08709419 -2.00740666\n",
            "[14,] -0.008677767 0.09329533 -0.09301395\n",
            "[15,]  0.289558145 0.07982172  3.62756089\n",
            "[16,]  0.490697759 0.10254439  4.78522280\n",
            "[17,]  0.240000969 0.10795759  2.22310417\n",
            "[18,]  0.235642214 0.10001992  2.35595293\n",
            "[19,] -0.311955500 0.10140090 -3.07645703\n",
            "[20,] -0.131178630 0.09612597 -1.36465344\n",
            "[21,]  0.085313633 0.10297017  0.82852765\n",
            "Covariance matrix:  \n",
            "           uk         ca         us\n",
            "uk 0.28823094 0.02632687 0.07375324\n",
            "ca 0.02632687 0.29729471 0.13836296\n",
            "us 0.07375324 0.13836296 0.36215147\n"
          ]
        },
        {
          "output_type": "display_data",
          "data": {
            "text/html": [
              "<table class=\"dataframe\">\n",
              "<caption>A data.frame: 21 × 5</caption>\n",
              "<thead>\n",
              "\t<tr><th scope=col>coef_name</th><th scope=col>beta</th><th scope=col>se</th><th scope=col>t_ratio</th><th scope=col>Sig_YN</th></tr>\n",
              "\t<tr><th scope=col>&lt;chr&gt;</th><th scope=col>&lt;dbl&gt;</th><th scope=col>&lt;dbl&gt;</th><th scope=col>&lt;dbl&gt;</th><th scope=col>&lt;lgl&gt;</th></tr>\n",
              "</thead>\n",
              "<tbody>\n",
              "\t<tr><td>rep(1, 123)_uk</td><td> 0.125816304</td><td>0.07266338</td><td> 1.7314953</td><td>FALSE</td></tr>\n",
              "\t<tr><td>uk_uk         </td><td> 0.393066914</td><td>0.09341839</td><td> 4.2075968</td><td> TRUE</td></tr>\n",
              "\t<tr><td>ca_uk         </td><td> 0.103105720</td><td>0.09838425</td><td> 1.0479901</td><td>FALSE</td></tr>\n",
              "\t<tr><td>us_uk         </td><td> 0.052136600</td><td>0.09112636</td><td> 0.5721353</td><td>FALSE</td></tr>\n",
              "\t<tr><td>uk_uk         </td><td> 0.056601196</td><td>0.09237356</td><td> 0.6127424</td><td>FALSE</td></tr>\n",
              "\t<tr><td>ca_uk         </td><td> 0.105522415</td><td>0.08755896</td><td> 1.2051584</td><td>FALSE</td></tr>\n",
              "\t<tr><td>us_uk         </td><td> 0.018894618</td><td>0.09382091</td><td> 0.2013903</td><td>FALSE</td></tr>\n",
              "\t<tr><td>rep(1, 123)_ca</td><td> 0.123158083</td><td>0.07382941</td><td> 1.6681440</td><td>FALSE</td></tr>\n",
              "\t<tr><td>uk_ca         </td><td> 0.351313628</td><td>0.09491747</td><td> 3.7012536</td><td> TRUE</td></tr>\n",
              "\t<tr><td>ca_ca         </td><td> 0.338141505</td><td>0.09996302</td><td> 3.3826660</td><td> TRUE</td></tr>\n",
              "\t<tr><td>us_ca         </td><td> 0.469093555</td><td>0.09258865</td><td> 5.0664259</td><td> TRUE</td></tr>\n",
              "\t<tr><td>uk_ca         </td><td>-0.191350134</td><td>0.09385587</td><td>-2.0387658</td><td> TRUE</td></tr>\n",
              "\t<tr><td>ca_ca         </td><td>-0.174833458</td><td>0.08896401</td><td>-1.9652155</td><td>FALSE</td></tr>\n",
              "\t<tr><td>us_ca         </td><td>-0.008677767</td><td>0.09532645</td><td>-0.0910321</td><td>FALSE</td></tr>\n",
              "\t<tr><td>rep(1, 123)_us</td><td> 0.289558145</td><td>0.08168880</td><td> 3.5446492</td><td> TRUE</td></tr>\n",
              "\t<tr><td>uk_us         </td><td> 0.490697759</td><td>0.10502176</td><td> 4.6723437</td><td> TRUE</td></tr>\n",
              "\t<tr><td>ca_us         </td><td> 0.240000969</td><td>0.11060443</td><td> 2.1699038</td><td> TRUE</td></tr>\n",
              "\t<tr><td>us_us         </td><td> 0.235642214</td><td>0.10244504</td><td> 2.3001819</td><td> TRUE</td></tr>\n",
              "\t<tr><td>uk_us         </td><td>-0.311955500</td><td>0.10384715</td><td>-3.0039871</td><td> TRUE</td></tr>\n",
              "\t<tr><td>ca_us         </td><td>-0.131178630</td><td>0.09843454</td><td>-1.3326484</td><td>FALSE</td></tr>\n",
              "\t<tr><td>us_us         </td><td> 0.085313633</td><td>0.10547428</td><td> 0.8088572</td><td>FALSE</td></tr>\n",
              "</tbody>\n",
              "</table>\n"
            ],
            "text/markdown": "\nA data.frame: 21 × 5\n\n| coef_name &lt;chr&gt; | beta &lt;dbl&gt; | se &lt;dbl&gt; | t_ratio &lt;dbl&gt; | Sig_YN &lt;lgl&gt; |\n|---|---|---|---|---|\n| rep(1, 123)_uk |  0.125816304 | 0.07266338 |  1.7314953 | FALSE |\n| uk_uk          |  0.393066914 | 0.09341839 |  4.2075968 |  TRUE |\n| ca_uk          |  0.103105720 | 0.09838425 |  1.0479901 | FALSE |\n| us_uk          |  0.052136600 | 0.09112636 |  0.5721353 | FALSE |\n| uk_uk          |  0.056601196 | 0.09237356 |  0.6127424 | FALSE |\n| ca_uk          |  0.105522415 | 0.08755896 |  1.2051584 | FALSE |\n| us_uk          |  0.018894618 | 0.09382091 |  0.2013903 | FALSE |\n| rep(1, 123)_ca |  0.123158083 | 0.07382941 |  1.6681440 | FALSE |\n| uk_ca          |  0.351313628 | 0.09491747 |  3.7012536 |  TRUE |\n| ca_ca          |  0.338141505 | 0.09996302 |  3.3826660 |  TRUE |\n| us_ca          |  0.469093555 | 0.09258865 |  5.0664259 |  TRUE |\n| uk_ca          | -0.191350134 | 0.09385587 | -2.0387658 |  TRUE |\n| ca_ca          | -0.174833458 | 0.08896401 | -1.9652155 | FALSE |\n| us_ca          | -0.008677767 | 0.09532645 | -0.0910321 | FALSE |\n| rep(1, 123)_us |  0.289558145 | 0.08168880 |  3.5446492 |  TRUE |\n| uk_us          |  0.490697759 | 0.10502176 |  4.6723437 |  TRUE |\n| ca_us          |  0.240000969 | 0.11060443 |  2.1699038 |  TRUE |\n| us_us          |  0.235642214 | 0.10244504 |  2.3001819 |  TRUE |\n| uk_us          | -0.311955500 | 0.10384715 | -3.0039871 |  TRUE |\n| ca_us          | -0.131178630 | 0.09843454 | -1.3326484 | FALSE |\n| us_us          |  0.085313633 | 0.10547428 |  0.8088572 | FALSE |\n\n",
            "text/latex": "A data.frame: 21 × 5\n\\begin{tabular}{lllll}\n coef\\_name & beta & se & t\\_ratio & Sig\\_YN\\\\\n <chr> & <dbl> & <dbl> & <dbl> & <lgl>\\\\\n\\hline\n\t rep(1, 123)\\_uk &  0.125816304 & 0.07266338 &  1.7314953 & FALSE\\\\\n\t uk\\_uk          &  0.393066914 & 0.09341839 &  4.2075968 &  TRUE\\\\\n\t ca\\_uk          &  0.103105720 & 0.09838425 &  1.0479901 & FALSE\\\\\n\t us\\_uk          &  0.052136600 & 0.09112636 &  0.5721353 & FALSE\\\\\n\t uk\\_uk          &  0.056601196 & 0.09237356 &  0.6127424 & FALSE\\\\\n\t ca\\_uk          &  0.105522415 & 0.08755896 &  1.2051584 & FALSE\\\\\n\t us\\_uk          &  0.018894618 & 0.09382091 &  0.2013903 & FALSE\\\\\n\t rep(1, 123)\\_ca &  0.123158083 & 0.07382941 &  1.6681440 & FALSE\\\\\n\t uk\\_ca          &  0.351313628 & 0.09491747 &  3.7012536 &  TRUE\\\\\n\t ca\\_ca          &  0.338141505 & 0.09996302 &  3.3826660 &  TRUE\\\\\n\t us\\_ca          &  0.469093555 & 0.09258865 &  5.0664259 &  TRUE\\\\\n\t uk\\_ca          & -0.191350134 & 0.09385587 & -2.0387658 &  TRUE\\\\\n\t ca\\_ca          & -0.174833458 & 0.08896401 & -1.9652155 & FALSE\\\\\n\t us\\_ca          & -0.008677767 & 0.09532645 & -0.0910321 & FALSE\\\\\n\t rep(1, 123)\\_us &  0.289558145 & 0.08168880 &  3.5446492 &  TRUE\\\\\n\t uk\\_us          &  0.490697759 & 0.10502176 &  4.6723437 &  TRUE\\\\\n\t ca\\_us          &  0.240000969 & 0.11060443 &  2.1699038 &  TRUE\\\\\n\t us\\_us          &  0.235642214 & 0.10244504 &  2.3001819 &  TRUE\\\\\n\t uk\\_us          & -0.311955500 & 0.10384715 & -3.0039871 &  TRUE\\\\\n\t ca\\_us          & -0.131178630 & 0.09843454 & -1.3326484 & FALSE\\\\\n\t us\\_us          &  0.085313633 & 0.10547428 &  0.8088572 & FALSE\\\\\n\\end{tabular}\n",
            "text/plain": [
              "   coef_name      beta         se         t_ratio    Sig_YN\n",
              "1  rep(1, 123)_uk  0.125816304 0.07266338  1.7314953 FALSE \n",
              "2  uk_uk           0.393066914 0.09341839  4.2075968  TRUE \n",
              "3  ca_uk           0.103105720 0.09838425  1.0479901 FALSE \n",
              "4  us_uk           0.052136600 0.09112636  0.5721353 FALSE \n",
              "5  uk_uk           0.056601196 0.09237356  0.6127424 FALSE \n",
              "6  ca_uk           0.105522415 0.08755896  1.2051584 FALSE \n",
              "7  us_uk           0.018894618 0.09382091  0.2013903 FALSE \n",
              "8  rep(1, 123)_ca  0.123158083 0.07382941  1.6681440 FALSE \n",
              "9  uk_ca           0.351313628 0.09491747  3.7012536  TRUE \n",
              "10 ca_ca           0.338141505 0.09996302  3.3826660  TRUE \n",
              "11 us_ca           0.469093555 0.09258865  5.0664259  TRUE \n",
              "12 uk_ca          -0.191350134 0.09385587 -2.0387658  TRUE \n",
              "13 ca_ca          -0.174833458 0.08896401 -1.9652155 FALSE \n",
              "14 us_ca          -0.008677767 0.09532645 -0.0910321 FALSE \n",
              "15 rep(1, 123)_us  0.289558145 0.08168880  3.5446492  TRUE \n",
              "16 uk_us           0.490697759 0.10502176  4.6723437  TRUE \n",
              "17 ca_us           0.240000969 0.11060443  2.1699038  TRUE \n",
              "18 us_us           0.235642214 0.10244504  2.3001819  TRUE \n",
              "19 uk_us          -0.311955500 0.10384715 -3.0039871  TRUE \n",
              "20 ca_us          -0.131178630 0.09843454 -1.3326484 FALSE \n",
              "21 us_us           0.085313633 0.10547428  0.8088572 FALSE "
            ]
          },
          "metadata": {}
        }
      ]
    },
    {
      "cell_type": "markdown",
      "source": [
        "In the approximate Bayesian case, there is a slight difference in the s.e. and the test stat values, but the estimates are exactly equal."
      ],
      "metadata": {
        "id": "xU7CZYs0-QKp"
      }
    },
    {
      "cell_type": "code",
      "source": [
        "## Bayesian Estimation Using the Same UKCAUS Dataset\n",
        "\n",
        "## Ridge Regression Case\n",
        "C <- 0.1 *diag(7) ## lambda = 0.1 for lambda*I_7\n",
        "V0 <- diag(3) ## = I_3\n",
        "## Phi0 for the betas is the zero\n",
        "\n",
        "m_ridge <- BVAR(z,p=2,C,V0)\n"
      ],
      "metadata": {
        "colab": {
          "base_uri": "https://localhost:8080/"
        },
        "id": "G2oBLjbk74yG",
        "outputId": "c58315d9-149e-4bf4-effe-0f5a50e68950"
      },
      "execution_count": null,
      "outputs": [
        {
          "output_type": "stream",
          "name": "stdout",
          "text": [
            "Bayesian estimate: \n",
            "               Est       s.e.     t-ratio\n",
            " [1,]  0.125805143 0.07123059  1.76616742\n",
            " [2,]  0.392103983 0.09150764  4.28493158\n",
            " [3,]  0.102894946 0.09633822  1.06805941\n",
            " [4,]  0.052438976 0.08925487  0.58751947\n",
            " [5,]  0.056937547 0.09048722  0.62923303\n",
            " [6,]  0.105553695 0.08578002  1.23051603\n",
            " [7,]  0.019147973 0.09188759  0.20838475\n",
            " [8,]  0.123256168 0.07237470  1.70302833\n",
            " [9,]  0.350253306 0.09297745  3.76707803\n",
            "[10,]  0.337525508 0.09788562  3.44816232\n",
            "[11,]  0.468440207 0.09068850  5.16537628\n",
            "[12,] -0.190144541 0.09194064 -2.06812294\n",
            "[13,] -0.173964344 0.08715783 -1.99596908\n",
            "[14,] -0.008627966 0.09336351 -0.09241262\n",
            "[15,]  0.289317667 0.07987129  3.62229886\n",
            "[16,]  0.489072359 0.10260807  4.76641231\n",
            "[17,]  0.239456311 0.10802463  2.21668257\n",
            "[18,]  0.235601116 0.10008202  2.35408023\n",
            "[19,] -0.310286945 0.10146386 -3.05810301\n",
            "[20,] -0.130271750 0.09618566 -1.35437813\n",
            "[21,]  0.085039470 0.10303411  0.82535258\n",
            "Covariance matrix:  \n",
            "           uk         ca         us\n",
            "uk 0.28839063 0.02647455 0.07394349\n",
            "ca 0.02647455 0.29772937 0.13875034\n",
            "us 0.07394349 0.13875034 0.36260138\n"
          ]
        }
      ]
    },
    {
      "cell_type": "markdown",
      "source": [
        "### Lag Selection for VAR Models\n",
        "\n",
        "we may implement statistical tests or information criteria to facilitate the choice of lag order $p$ for VAR models,\n",
        "\n",
        "#### Sequential Likelihood Ratio Tests\n",
        "\n",
        "Tiao-Box Sequential Likelihood Ratio Test for Lag Selection:\n",
        "\n",
        "1. Select a positive integer $P$ for the maximum $VAR$ order considered.\n",
        "\n",
        "2. Setup the estimation of the parameters using multivariate regression form $\\mathbf{Z} = \\mathbf{X \\beta} + \\mathbf{A} $ such that $T-P$ data periods are considered, even if we change the lag later.\n",
        "\n",
        "3. For $l = 0,1,..., P$, solve for the LS estimator $\\hat{\\mathbf{\\beta}}_{VAR(l)}$. When $l=0$, then the model reduces the constant mean vector model. Solve for the $\\hat{\\mathbf{\\Sigma}}_{a,l} = \\frac{1}{T-P} \\hat{\\mathbf{A}}'\\hat{\\mathbf{A}}$, where $\\hat{\\mathbf{A}} = \\mathbf{Z} - \\mathbf{X \\hat{\\beta}}_{VAR(l)}$, the residual matrix.\n",
        "\n",
        "4. For $l = 0,1,..., P$, with $H_0: \\mathbf{\\phi}_l = \\mathbf{0}$, compute for the test statistic and p-value below\n",
        "\n",
        "$$M(l) = -(T-P-1.5 -kl) [ \\ln |\\hat{\\mathbf{\\Sigma}}_{a,l}| - \\ln |\\hat{\\mathbf{\\Sigma}}_{a,l-1}| ] \\approx \\chi^2_{(df = k^2)}$$\n",
        "\n",
        "$$ pval [M(l)] = P \\left[ X > M(l) | X \\sim \\chi^2_{(df = k^2)} \\right] $$\n",
        "\n",
        "5. for a given level of significance $\\alpha$, if $pval [M(l)] \\ge \\alpha$ for $l>p$, then the appropriate order is $VAR(p)$.\n",
        "\n",
        "\n",
        "#### Information Criteria Measures\n",
        "\n",
        "There are 4 criteria used for the approach: Akaike information criterion (AIC), Hannan-Quinn information criterion (HQ), Schwarz Bayesian criterion (SBC), or final prediction error (FPE) of which for all metrics, a lower value implies a better order $p$ to select.\n",
        "\n",
        "$$AIC(p) = \\ln \\left| \\hat{\\mathbf{\\Sigma}}_{a,l} \\right| + \\frac{2}{T} pk^2 $$\n",
        "$$HQ(p) = \\ln \\left| \\hat{\\mathbf{\\Sigma}}_{a,l} \\right| + \\frac{2 \\ln[ \\ln (T) ]}{T} pk^2 $$\n",
        "$$SBC(p) = \\ln \\left| \\hat{\\mathbf{\\Sigma}}_{a,l} \\right| + \\frac{ \\ln (T) }{T} pk^2 $$\n",
        "$$FPE(p) =\\left( \\frac{T + p^*}{T - p^*} \\right)^k \\left| \\hat{\\mathbf{\\Sigma}}_{a,l} \\right| $$\n",
        "\n",
        "where $p^*$ is the total number of parameters in the $VAR(p)$ model.\n",
        "\n",
        "Comments:\n",
        "\n",
        "* For moderate to large sample sizes, the choice made by FPE and AIC tend to be similar.\n",
        "\n",
        "* For $T\\ge 8$ , $p_{SBC} \\le p_{AIC}$\n",
        "\n",
        "* $p_{SBC} \\le p_{HQ}, \\forall T$\n",
        "\n",
        "* For $T\\ge 16$ , $p_{SBC} \\le p_{HQ} \\le p_{AIC}$\n",
        "\n",
        "* Overall, for sufficiently large sample sizes, SBC seems to select smaller large order for VAR\n",
        "\n",
        "\n"
      ],
      "metadata": {
        "id": "zr-ODP13rN7R"
      }
    },
    {
      "cell_type": "code",
      "source": [
        "## Demonstration of Lag Selection Criteria\n",
        "## Using the same data set from MTS\n",
        "\n",
        "order_select <- VARorder(z)"
      ],
      "metadata": {
        "id": "tXe8Z7wX_FxU",
        "colab": {
          "base_uri": "https://localhost:8080/"
        },
        "outputId": "e3dc987d-650b-4efd-88c7-3f52217fed5c"
      },
      "execution_count": null,
      "outputs": [
        {
          "output_type": "stream",
          "name": "stdout",
          "text": [
            "selected order: aic =  2 \n",
            "selected order: bic =  1 \n",
            "selected order: hq =  1 \n",
            "Summary table:  \n",
            "       p     AIC     BIC      HQ     M(p) p-value\n",
            " [1,]  0 -3.3250 -3.3250 -3.3250   0.0000  0.0000\n",
            " [2,]  1 -4.2520 -4.0484 -4.1693 115.1329  0.0000\n",
            " [3,]  2 -4.3333 -3.9260 -4.1678  23.5389  0.0051\n",
            " [4,]  3 -4.2926 -3.6817 -4.0444  10.4864  0.3126\n",
            " [5,]  4 -4.2661 -3.4516 -3.9352  11.5767  0.2382\n",
            " [6,]  5 -4.1508 -3.1326 -3.7372   2.7406  0.9737\n",
            " [7,]  6 -4.0801 -2.8583 -3.5838   6.7822  0.6598\n",
            " [8,]  7 -3.9869 -2.5615 -3.4079   4.5469  0.8719\n",
            " [9,]  8 -4.1260 -2.4969 -3.4642  24.4833  0.0036\n",
            "[10,]  9 -4.0586 -2.2259 -3.3141   6.4007  0.6992\n",
            "[11,] 10 -3.9683 -1.9320 -3.1411   4.3226  0.8889\n",
            "[12,] 11 -3.9726 -1.7326 -3.0626  11.4922  0.2435\n",
            "[13,] 12 -3.9872 -1.5436 -2.9945  11.8168  0.2238\n",
            "[14,] 13 -4.0408 -1.3935 -2.9654  14.1266  0.1179\n"
          ]
        }
      ]
    },
    {
      "cell_type": "markdown",
      "source": [
        "Based on the code, it seems $VAR(2)$ is the optimal choice based on AIC and sequential tests.\n",
        "\n",
        "Though parameters of the 2nd lag matrix is significant, if there is an issue with too many parameters being estimated, one can choose $VAR(1)$."
      ],
      "metadata": {
        "id": "K7kXEw3QWHU0"
      }
    },
    {
      "cell_type": "code",
      "source": [
        "## Using the vars package\n",
        "\n",
        "infocrit <- VARselect( z , lag.max = 13 , type = \"const\")\n",
        "\n",
        "infocrit"
      ],
      "metadata": {
        "colab": {
          "base_uri": "https://localhost:8080/",
          "height": 292
        },
        "id": "uwHBCqhMWk_O",
        "outputId": "51f21540-38b0-4b0f-a78e-981b1d67d022"
      },
      "execution_count": null,
      "outputs": [
        {
          "output_type": "display_data",
          "data": {
            "text/html": [
              "<dl>\n",
              "\t<dt>$selection</dt>\n",
              "\t\t<dd><style>\n",
              ".dl-inline {width: auto; margin:0; padding: 0}\n",
              ".dl-inline>dt, .dl-inline>dd {float: none; width: auto; display: inline-block}\n",
              ".dl-inline>dt::after {content: \":\\0020\"; padding-right: .5ex}\n",
              ".dl-inline>dt:not(:first-of-type) {padding-left: .5ex}\n",
              "</style><dl class=dl-inline><dt>AIC(n)</dt><dd>2</dd><dt>HQ(n)</dt><dd>1</dd><dt>SC(n)</dt><dd>1</dd><dt>FPE(n)</dt><dd>2</dd></dl>\n",
              "</dd>\n",
              "\t<dt>$criteria</dt>\n",
              "\t\t<dd><table class=\"dataframe\">\n",
              "<caption>A matrix: 4 × 13 of type dbl</caption>\n",
              "<thead>\n",
              "\t<tr><th></th><th scope=col>1</th><th scope=col>2</th><th scope=col>3</th><th scope=col>4</th><th scope=col>5</th><th scope=col>6</th><th scope=col>7</th><th scope=col>8</th><th scope=col>9</th><th scope=col>10</th><th scope=col>11</th><th scope=col>12</th><th scope=col>13</th></tr>\n",
              "</thead>\n",
              "<tbody>\n",
              "\t<tr><th scope=row>AIC(n)</th><td>-4.18174110</td><td>-4.24627960</td><td>-4.18887976</td><td>-4.14569503</td><td>-4.01367824</td><td>-3.92628473</td><td>-3.81637370</td><td>-3.93870323</td><td>-3.85464391</td><td>-3.74762669</td><td>-3.73519946</td><td>-3.73310033</td><td>-3.76996134</td></tr>\n",
              "\t<tr><th scope=row>HQ(n)</th><td>-4.06356452</td><td>-4.03947058</td><td>-3.89343831</td><td>-3.76162114</td><td>-3.54097192</td><td>-3.36494597</td><td>-3.16640251</td><td>-3.20009960</td><td>-3.02740784</td><td>-2.83175818</td><td>-2.73069852</td><td>-2.63996695</td><td>-2.58819552</td></tr>\n",
              "\t<tr><th scope=row>SC(n)</th><td>-3.89047336</td><td>-3.73656106</td><td>-3.46071042</td><td>-3.19907489</td><td>-2.84860730</td><td>-2.54276298</td><td>-2.21440116</td><td>-2.11827988</td><td>-1.81576976</td><td>-1.49030173</td><td>-1.25942370</td><td>-1.03887377</td><td>-0.85728398</td></tr>\n",
              "\t<tr><th scope=row>FPE(n)</th><td> 0.01527329</td><td> 0.01432441</td><td> 0.01518497</td><td> 0.01588243</td><td> 0.01817379</td><td> 0.01991368</td><td> 0.02235166</td><td> 0.01992519</td><td> 0.02188033</td><td> 0.02464566</td><td> 0.02532572</td><td> 0.02583904</td><td> 0.02544655</td></tr>\n",
              "</tbody>\n",
              "</table>\n",
              "</dd>\n",
              "</dl>\n"
            ],
            "text/markdown": "$selection\n:   AIC(n)\n:   2HQ(n)\n:   1SC(n)\n:   1FPE(n)\n:   2\n\n\n$criteria\n:   \nA matrix: 4 × 13 of type dbl\n\n| <!--/--> | 1 | 2 | 3 | 4 | 5 | 6 | 7 | 8 | 9 | 10 | 11 | 12 | 13 |\n|---|---|---|---|---|---|---|---|---|---|---|---|---|---|\n| AIC(n) | -4.18174110 | -4.24627960 | -4.18887976 | -4.14569503 | -4.01367824 | -3.92628473 | -3.81637370 | -3.93870323 | -3.85464391 | -3.74762669 | -3.73519946 | -3.73310033 | -3.76996134 |\n| HQ(n) | -4.06356452 | -4.03947058 | -3.89343831 | -3.76162114 | -3.54097192 | -3.36494597 | -3.16640251 | -3.20009960 | -3.02740784 | -2.83175818 | -2.73069852 | -2.63996695 | -2.58819552 |\n| SC(n) | -3.89047336 | -3.73656106 | -3.46071042 | -3.19907489 | -2.84860730 | -2.54276298 | -2.21440116 | -2.11827988 | -1.81576976 | -1.49030173 | -1.25942370 | -1.03887377 | -0.85728398 |\n| FPE(n) |  0.01527329 |  0.01432441 |  0.01518497 |  0.01588243 |  0.01817379 |  0.01991368 |  0.02235166 |  0.01992519 |  0.02188033 |  0.02464566 |  0.02532572 |  0.02583904 |  0.02544655 |\n\n\n\n\n",
            "text/latex": "\\begin{description}\n\\item[\\$selection] \\begin{description*}\n\\item[AIC(n)] 2\n\\item[HQ(n)] 1\n\\item[SC(n)] 1\n\\item[FPE(n)] 2\n\\end{description*}\n\n\\item[\\$criteria] A matrix: 4 × 13 of type dbl\n\\begin{tabular}{r|lllllllllllll}\n  & 1 & 2 & 3 & 4 & 5 & 6 & 7 & 8 & 9 & 10 & 11 & 12 & 13\\\\\n\\hline\n\tAIC(n) & -4.18174110 & -4.24627960 & -4.18887976 & -4.14569503 & -4.01367824 & -3.92628473 & -3.81637370 & -3.93870323 & -3.85464391 & -3.74762669 & -3.73519946 & -3.73310033 & -3.76996134\\\\\n\tHQ(n) & -4.06356452 & -4.03947058 & -3.89343831 & -3.76162114 & -3.54097192 & -3.36494597 & -3.16640251 & -3.20009960 & -3.02740784 & -2.83175818 & -2.73069852 & -2.63996695 & -2.58819552\\\\\n\tSC(n) & -3.89047336 & -3.73656106 & -3.46071042 & -3.19907489 & -2.84860730 & -2.54276298 & -2.21440116 & -2.11827988 & -1.81576976 & -1.49030173 & -1.25942370 & -1.03887377 & -0.85728398\\\\\n\tFPE(n) &  0.01527329 &  0.01432441 &  0.01518497 &  0.01588243 &  0.01817379 &  0.01991368 &  0.02235166 &  0.01992519 &  0.02188033 &  0.02464566 &  0.02532572 &  0.02583904 &  0.02544655\\\\\n\\end{tabular}\n\n\\end{description}\n",
            "text/plain": [
              "$selection\n",
              "AIC(n)  HQ(n)  SC(n) FPE(n) \n",
              "     2      1      1      2 \n",
              "\n",
              "$criteria\n",
              "                 1           2           3           4           5           6\n",
              "AIC(n) -4.18174110 -4.24627960 -4.18887976 -4.14569503 -4.01367824 -3.92628473\n",
              "HQ(n)  -4.06356452 -4.03947058 -3.89343831 -3.76162114 -3.54097192 -3.36494597\n",
              "SC(n)  -3.89047336 -3.73656106 -3.46071042 -3.19907489 -2.84860730 -2.54276298\n",
              "FPE(n)  0.01527329  0.01432441  0.01518497  0.01588243  0.01817379  0.01991368\n",
              "                 7           8           9          10          11          12\n",
              "AIC(n) -3.81637370 -3.93870323 -3.85464391 -3.74762669 -3.73519946 -3.73310033\n",
              "HQ(n)  -3.16640251 -3.20009960 -3.02740784 -2.83175818 -2.73069852 -2.63996695\n",
              "SC(n)  -2.21440116 -2.11827988 -1.81576976 -1.49030173 -1.25942370 -1.03887377\n",
              "FPE(n)  0.02235166  0.01992519  0.02188033  0.02464566  0.02532572  0.02583904\n",
              "                13\n",
              "AIC(n) -3.76996134\n",
              "HQ(n)  -2.58819552\n",
              "SC(n)  -0.85728398\n",
              "FPE(n)  0.02544655\n"
            ]
          },
          "metadata": {}
        }
      ]
    },
    {
      "cell_type": "markdown",
      "source": [
        "The result is similar to MTS.\n",
        "\n",
        "We can implement automated selection and estimation at the same time."
      ],
      "metadata": {
        "id": "sLeLZSI2ZHZN"
      }
    },
    {
      "cell_type": "code",
      "source": [
        "## Automated Selection and Estimation of VAR within Max Lag using vars package\n",
        "## ic choices: \"AIC\", \"HQ\", \"SC\", \"FPE\"\n",
        "mod_selest <- VAR(z, type = \"const\", lag.max = 13 , ic = \"AIC\")\n",
        "\n",
        "summary(mod_selest)"
      ],
      "metadata": {
        "colab": {
          "base_uri": "https://localhost:8080/",
          "height": 1000
        },
        "id": "ySX6xhCMesA8",
        "outputId": "ae86347f-3fca-4053-f07c-86d1c68223d6"
      },
      "execution_count": null,
      "outputs": [
        {
          "output_type": "display_data",
          "data": {
            "text/plain": [
              "\n",
              "VAR Estimation Results:\n",
              "========================= \n",
              "Endogenous variables: uk, ca, us \n",
              "Deterministic variables: const \n",
              "Sample size: 123 \n",
              "Log Likelihood: -290.487 \n",
              "Roots of the characteristic polynomial:\n",
              "0.6136 0.6136 0.356 0.3321 0.3321 0.03676\n",
              "Call:\n",
              "VAR(y = z, type = \"const\", lag.max = 13, ic = \"AIC\")\n",
              "\n",
              "\n",
              "Estimation results for equation uk: \n",
              "=================================== \n",
              "uk = uk.l1 + ca.l1 + us.l1 + uk.l2 + ca.l2 + us.l2 + const \n",
              "\n",
              "      Estimate Std. Error t value Pr(>|t|)    \n",
              "uk.l1  0.39307    0.09342   4.208 5.11e-05 ***\n",
              "ca.l1  0.10311    0.09838   1.048    0.297    \n",
              "us.l1  0.05214    0.09113   0.572    0.568    \n",
              "uk.l2  0.05660    0.09237   0.613    0.541    \n",
              "ca.l2  0.10552    0.08756   1.205    0.231    \n",
              "us.l2  0.01889    0.09382   0.201    0.841    \n",
              "const  0.12582    0.07266   1.731    0.086 .  \n",
              "---\n",
              "Signif. codes:  0 ‘***’ 0.001 ‘**’ 0.01 ‘*’ 0.05 ‘.’ 0.1 ‘ ’ 1\n",
              "\n",
              "\n",
              "Residual standard error: 0.5473 on 116 degrees of freedom\n",
              "Multiple R-Squared: 0.3829,\tAdjusted R-squared: 0.3509 \n",
              "F-statistic: 11.99 on 6 and 116 DF,  p-value: 1.907e-10 \n",
              "\n",
              "\n",
              "Estimation results for equation ca: \n",
              "=================================== \n",
              "ca = uk.l1 + ca.l1 + us.l1 + uk.l2 + ca.l2 + us.l2 + const \n",
              "\n",
              "       Estimate Std. Error t value Pr(>|t|)    \n",
              "uk.l1  0.351314   0.094917   3.701 0.000330 ***\n",
              "ca.l1  0.338142   0.099963   3.383 0.000979 ***\n",
              "us.l1  0.469094   0.092589   5.066 1.55e-06 ***\n",
              "uk.l2 -0.191350   0.093856  -2.039 0.043747 *  \n",
              "ca.l2 -0.174833   0.088964  -1.965 0.051780 .  \n",
              "us.l2 -0.008678   0.095326  -0.091 0.927624    \n",
              "const  0.123158   0.073829   1.668 0.097984 .  \n",
              "---\n",
              "Signif. codes:  0 ‘***’ 0.001 ‘**’ 0.01 ‘*’ 0.05 ‘.’ 0.1 ‘ ’ 1\n",
              "\n",
              "\n",
              "Residual standard error: 0.556 on 116 degrees of freedom\n",
              "Multiple R-Squared: 0.5238,\tAdjusted R-squared: 0.4992 \n",
              "F-statistic: 21.27 on 6 and 116 DF,  p-value: < 2.2e-16 \n",
              "\n",
              "\n",
              "Estimation results for equation us: \n",
              "=================================== \n",
              "us = uk.l1 + ca.l1 + us.l1 + uk.l2 + ca.l2 + us.l2 + const \n",
              "\n",
              "      Estimate Std. Error t value Pr(>|t|)    \n",
              "uk.l1  0.49070    0.10502   4.672 8.08e-06 ***\n",
              "ca.l1  0.24000    0.11060   2.170 0.032053 *  \n",
              "us.l1  0.23564    0.10245   2.300 0.023226 *  \n",
              "uk.l2 -0.31196    0.10385  -3.004 0.003265 ** \n",
              "ca.l2 -0.13118    0.09843  -1.333 0.185259    \n",
              "us.l2  0.08531    0.10547   0.809 0.420253    \n",
              "const  0.28956    0.08169   3.545 0.000568 ***\n",
              "---\n",
              "Signif. codes:  0 ‘***’ 0.001 ‘**’ 0.01 ‘*’ 0.05 ‘.’ 0.1 ‘ ’ 1\n",
              "\n",
              "\n",
              "Residual standard error: 0.6152 on 116 degrees of freedom\n",
              "Multiple R-Squared: 0.3606,\tAdjusted R-squared: 0.3276 \n",
              "F-statistic:  10.9 on 6 and 116 DF,  p-value: 1.325e-09 \n",
              "\n",
              "\n",
              "\n",
              "Covariance matrix of residuals:\n",
              "        uk      ca      us\n",
              "uk 0.29949 0.02814 0.07884\n",
              "ca 0.02814 0.30918 0.14791\n",
              "us 0.07884 0.14791 0.37851\n",
              "\n",
              "Correlation matrix of residuals:\n",
              "        uk      ca     us\n",
              "uk 1.00000 0.09248 0.2342\n",
              "ca 0.09248 1.00000 0.4324\n",
              "us 0.23416 0.43236 1.0000\n",
              "\n"
            ]
          },
          "metadata": {}
        }
      ]
    },
    {
      "cell_type": "markdown",
      "source": [
        "### Residual Diagnostics\n",
        "\n",
        "The main assumption on the VAR model that need to be checked are:\n",
        "\n",
        "> Multivariate errors $\\{\\mathbf{a}_t \\}$ should be multivariate white noise, i.e.,  $\\mathbf{a}_t \\sim iid (\\mathbf{\\mu}_a = \\mathbf{0}, \\mathbf{\\Sigma}_a )$.\n",
        "\n",
        "Using residuals $\\{\\hat{\\mathbf{a}}_t \\}$ as estimated errors, the residuals should have:\n",
        "\n",
        "* a **constant mean of zero** and no other pattern except a flat band of values around the zero mark of the vertical axis,\n",
        "\n",
        "* a **constant covariance matrix** that does not change with time,\n",
        "\n",
        "* **residual cross correlations equal to zero** that indicates past errors do not affect current errors, and\n",
        "\n",
        "* **compliance with the assumed distribution** for the estimation procedure; e.g., in the MLE procedure, the common approach is the assume the multivariate normal distribution\n",
        "\n",
        "Comments:\n",
        "\n",
        "* With the first bullet, it is often called the *linearity assumption*, it means that the residuals have no other pattern and the assumed linear model based on the $VAR$. Typically, these are tested via scatterplots of the residuals with respect to: (1) time index,(2) predicted values, (3) other endogenous variables, or (4) exogenous variables.\n",
        "\n",
        "* With the second bullet, \"time\" is used loosely as it is possible that the matrix is affected by other exogenous variables in time, which is not commonly tested but possible by adaptation of the White test for heteroscedasticity common in cross-sectional regression models. In this course, we cover conditional heteroscedasticity tests to check for noncompliance.\n",
        "\n",
        "* The third bullet can be tested using the earlier discussed test for zero cross-correlation $Q_k(m)$ with an adjusted $df = (m - p)k^2$, with $p$ as the VAR order.\n",
        "\n",
        "* With failing the test for the multivariate normal distribution, sometimes we can use alternative distributions, e.g., multivariate t distribution, or use alternative approaches in generating forecasts and inference, e.g., bootstrapping, that circumvents noncompliance.\n",
        "\n",
        "* Often, one may still adjust for noncompliance with the normality assumption using the *quasi-maximum likelihood estimation procedure*, which is a robustness adjustment of the standard errors."
      ],
      "metadata": {
        "id": "fj-cPd4KtvTI"
      }
    },
    {
      "cell_type": "markdown",
      "source": [
        "### Forecasting with VAR Models"
      ],
      "metadata": {
        "id": "vcGJ1hPXwYmv"
      }
    },
    {
      "cell_type": "markdown",
      "source": [
        "### Inference for VAR Models"
      ],
      "metadata": {
        "id": "YA8RRRDnwdTv"
      }
    },
    {
      "cell_type": "markdown",
      "source": [
        "# References\n",
        "\n",
        "(MTSA): Tsay RS (2014). Multivariate Time Series Analysis. Wiley.\n",
        "\n",
        "(AICTSR): Pfaff B (2008). Analysis of Integrated and Cointegrated Time Series Analysis with R. Springer."
      ],
      "metadata": {
        "id": "yWJhkIw-b5r9"
      }
    }
  ]
}