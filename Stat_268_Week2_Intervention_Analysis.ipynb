{
  "nbformat": 4,
  "nbformat_minor": 0,
  "metadata": {
    "colab": {
      "provenance": [],
      "authorship_tag": "ABX9TyPIaMJ2IMk+wHm9n0KIC+g5",
      "include_colab_link": true
    },
    "kernelspec": {
      "name": "ir",
      "display_name": "R"
    },
    "language_info": {
      "name": "R"
    }
  },
  "cells": [
    {
      "cell_type": "markdown",
      "metadata": {
        "id": "view-in-github",
        "colab_type": "text"
      },
      "source": [
        "<a href=\"https://colab.research.google.com/github/pacayton/Stat_268_Advanced_Time_Series_Analysis/blob/main/Stat_268_Week2_Intervention_Analysis.ipynb\" target=\"_parent\"><img src=\"https://colab.research.google.com/assets/colab-badge.svg\" alt=\"Open In Colab\"/></a>"
      ]
    },
    {
      "cell_type": "markdown",
      "source": [
        "\n",
        "# Stat 268: Advanced Time Series Analysis\n",
        "$$\\quad$$\n",
        "## Assoc Prof Peter Julian Cayton, PhD\n",
        "## School of Statistics\n",
        "## University of the Philippines Diliman\n",
        "## [Google Scholar](https://scholar.google.com/citations?user=KtH_mGEAAAAJ)\n",
        "\n",
        "\n"
      ],
      "metadata": {
        "id": "40JW1akVp2l0"
      }
    },
    {
      "cell_type": "markdown",
      "source": [
        "# Intervention Analysis\n",
        "\n"
      ],
      "metadata": {
        "id": "3Ht2pBdLqmHt"
      }
    },
    {
      "cell_type": "code",
      "execution_count": null,
      "metadata": {
        "id": "j4UeC0anpsot"
      },
      "outputs": [],
      "source": []
    }
  ]
}