{
  "nbformat": 4,
  "nbformat_minor": 0,
  "metadata": {
    "colab": {
      "provenance": [],
      "authorship_tag": "ABX9TyN03nFoWi/9ryncWg5bfw1J",
      "include_colab_link": true
    },
    "kernelspec": {
      "name": "ir",
      "display_name": "R"
    },
    "language_info": {
      "name": "R"
    }
  },
  "cells": [
    {
      "cell_type": "markdown",
      "metadata": {
        "id": "view-in-github",
        "colab_type": "text"
      },
      "source": [
        "<a href=\"https://colab.research.google.com/github/pacayton/Stat_268_Advanced_Time_Series_Analysis/blob/main/Stat_268_Week2_Intervention_Analysis.ipynb\" target=\"_parent\"><img src=\"https://colab.research.google.com/assets/colab-badge.svg\" alt=\"Open In Colab\"/></a>"
      ]
    },
    {
      "cell_type": "markdown",
      "source": [
        "\n",
        "# Stat 268: Advanced Time Series Analysis\n",
        "$$\\quad$$\n",
        "## Assoc Prof Peter Julian Cayton, PhD\n",
        "## School of Statistics\n",
        "## University of the Philippines Diliman\n",
        "## [Google Scholar](https://scholar.google.com/citations?user=KtH_mGEAAAAJ)\n",
        "\n",
        "\n"
      ],
      "metadata": {
        "id": "40JW1akVp2l0"
      }
    },
    {
      "cell_type": "markdown",
      "source": [
        "# Interrupted Time Series Analysis\n",
        "\n",
        "*   Also known as \"intervention analysis\".\n",
        "*   It is a system of methods in time series analysis to extract insights on the nature and impact of interventions in the behavior of the phenomenon as observed from the time series data.\n",
        "* It is also a field in causal inference in which the causal effect of interventions, such as policies, are analyzed from the shifts in the behavior observed from time series data.\n",
        "\n",
        "## Interventions\n",
        "\n",
        "* events in the history of the phenomenon that leads to changes in behavior that are observable in the time series data.\n",
        "* These changes may be abrupt or gradual, and their impact may be permanent or temporary\n",
        "* Examples: policy changes, new laws, changes in government/management, reforms, change in practices, mergers and acquisitions, weather events.\n",
        "\n"
      ],
      "metadata": {
        "id": "3Ht2pBdLqmHt"
      }
    },
    {
      "cell_type": "code",
      "execution_count": null,
      "metadata": {
        "id": "j4UeC0anpsot"
      },
      "outputs": [],
      "source": []
    }
  ]
}