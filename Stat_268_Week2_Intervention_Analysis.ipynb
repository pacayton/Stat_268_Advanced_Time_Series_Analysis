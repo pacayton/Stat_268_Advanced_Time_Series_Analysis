{
  "nbformat": 4,
  "nbformat_minor": 0,
  "metadata": {
    "colab": {
      "provenance": [],
      "authorship_tag": "ABX9TyO46W8Ckao4GiDI4sRpKXq8",
      "include_colab_link": true
    },
    "kernelspec": {
      "name": "ir",
      "display_name": "R"
    },
    "language_info": {
      "name": "R"
    }
  },
  "cells": [
    {
      "cell_type": "markdown",
      "metadata": {
        "id": "view-in-github",
        "colab_type": "text"
      },
      "source": [
        "<a href=\"https://colab.research.google.com/github/pacayton/Stat_268_Advanced_Time_Series_Analysis/blob/main/Stat_268_Week2_Intervention_Analysis.ipynb\" target=\"_parent\"><img src=\"https://colab.research.google.com/assets/colab-badge.svg\" alt=\"Open In Colab\"/></a>"
      ]
    },
    {
      "cell_type": "markdown",
      "source": [
        "\n",
        "# Stat 268: Advanced Time Series Analysis\n",
        "$$\\quad$$\n",
        "## Assoc Prof Peter Julian Cayton, PhD\n",
        "## School of Statistics\n",
        "## University of the Philippines Diliman\n",
        "## [Google Scholar](https://scholar.google.com/citations?user=KtH_mGEAAAAJ)\n",
        "\n",
        "\n"
      ],
      "metadata": {
        "id": "40JW1akVp2l0"
      }
    },
    {
      "cell_type": "markdown",
      "source": [
        "# Interrupted Time Series Analysis\n",
        "\n",
        "*   Also known as \"intervention analysis\".\n",
        "*   It is a system of methods in time series analysis to extract insights on the nature and impact of interventions and shifts in time series behavior.\n",
        "*   Intervention\n",
        "\n"
      ],
      "metadata": {
        "id": "3Ht2pBdLqmHt"
      }
    },
    {
      "cell_type": "code",
      "execution_count": null,
      "metadata": {
        "id": "j4UeC0anpsot"
      },
      "outputs": [],
      "source": []
    }
  ]
}